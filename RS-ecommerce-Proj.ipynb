{
 "cells": [
  {
   "cell_type": "code",
   "execution_count": 35,
   "metadata": {},
   "outputs": [],
   "source": [
    "%matplotlib inline\n",
    "import pandas as pd\n",
    "import numpy as np\n",
    "import matplotlib.pyplot as plt\n",
    "import seaborn as sns\n",
    "from surprise import KNNWithMeans\n",
    "from surprise import KNNWithZScore\n",
    "from surprise import KNNBaseline\n",
    "from surprise import SVD\n",
    "from surprise import BaselineOnly\n",
    "from surprise import SVDpp"
   ]
  },
  {
   "cell_type": "code",
   "execution_count": 8,
   "metadata": {},
   "outputs": [],
   "source": [
    "ratingdf=pd.read_csv(\"../recommended_systems_py/DataFiles/ratings_Electronics.csv\")"
   ]
  },
  {
   "cell_type": "code",
   "execution_count": 9,
   "metadata": {},
   "outputs": [
    {
     "data": {
      "text/html": [
       "<div>\n",
       "<style scoped>\n",
       "    .dataframe tbody tr th:only-of-type {\n",
       "        vertical-align: middle;\n",
       "    }\n",
       "\n",
       "    .dataframe tbody tr th {\n",
       "        vertical-align: top;\n",
       "    }\n",
       "\n",
       "    .dataframe thead th {\n",
       "        text-align: right;\n",
       "    }\n",
       "</style>\n",
       "<table border=\"1\" class=\"dataframe\">\n",
       "  <thead>\n",
       "    <tr style=\"text-align: right;\">\n",
       "      <th></th>\n",
       "      <th>AKM1MP6P0OYPR</th>\n",
       "      <th>0132793040</th>\n",
       "      <th>5.0</th>\n",
       "      <th>1365811200</th>\n",
       "    </tr>\n",
       "  </thead>\n",
       "  <tbody>\n",
       "    <tr>\n",
       "      <th>0</th>\n",
       "      <td>A2CX7LUOHB2NDG</td>\n",
       "      <td>0321732944</td>\n",
       "      <td>5.0</td>\n",
       "      <td>1341100800</td>\n",
       "    </tr>\n",
       "    <tr>\n",
       "      <th>1</th>\n",
       "      <td>A2NWSAGRHCP8N5</td>\n",
       "      <td>0439886341</td>\n",
       "      <td>1.0</td>\n",
       "      <td>1367193600</td>\n",
       "    </tr>\n",
       "    <tr>\n",
       "      <th>2</th>\n",
       "      <td>A2WNBOD3WNDNKT</td>\n",
       "      <td>0439886341</td>\n",
       "      <td>3.0</td>\n",
       "      <td>1374451200</td>\n",
       "    </tr>\n",
       "    <tr>\n",
       "      <th>3</th>\n",
       "      <td>A1GI0U4ZRJA8WN</td>\n",
       "      <td>0439886341</td>\n",
       "      <td>1.0</td>\n",
       "      <td>1334707200</td>\n",
       "    </tr>\n",
       "    <tr>\n",
       "      <th>4</th>\n",
       "      <td>A1QGNMC6O1VW39</td>\n",
       "      <td>0511189877</td>\n",
       "      <td>5.0</td>\n",
       "      <td>1397433600</td>\n",
       "    </tr>\n",
       "  </tbody>\n",
       "</table>\n",
       "</div>"
      ],
      "text/plain": [
       "    AKM1MP6P0OYPR  0132793040  5.0  1365811200\n",
       "0  A2CX7LUOHB2NDG  0321732944  5.0  1341100800\n",
       "1  A2NWSAGRHCP8N5  0439886341  1.0  1367193600\n",
       "2  A2WNBOD3WNDNKT  0439886341  3.0  1374451200\n",
       "3  A1GI0U4ZRJA8WN  0439886341  1.0  1334707200\n",
       "4  A1QGNMC6O1VW39  0511189877  5.0  1397433600"
      ]
     },
     "execution_count": 9,
     "metadata": {},
     "output_type": "execute_result"
    }
   ],
   "source": [
    "ratingdf.head()"
   ]
  },
  {
   "cell_type": "code",
   "execution_count": 10,
   "metadata": {},
   "outputs": [],
   "source": [
    "ratingdf.columns=['userId','productId','Rating','timestamp']"
   ]
  },
  {
   "cell_type": "code",
   "execution_count": 11,
   "metadata": {},
   "outputs": [
    {
     "data": {
      "text/html": [
       "<div>\n",
       "<style scoped>\n",
       "    .dataframe tbody tr th:only-of-type {\n",
       "        vertical-align: middle;\n",
       "    }\n",
       "\n",
       "    .dataframe tbody tr th {\n",
       "        vertical-align: top;\n",
       "    }\n",
       "\n",
       "    .dataframe thead th {\n",
       "        text-align: right;\n",
       "    }\n",
       "</style>\n",
       "<table border=\"1\" class=\"dataframe\">\n",
       "  <thead>\n",
       "    <tr style=\"text-align: right;\">\n",
       "      <th></th>\n",
       "      <th>userId</th>\n",
       "      <th>productId</th>\n",
       "      <th>Rating</th>\n",
       "      <th>timestamp</th>\n",
       "    </tr>\n",
       "  </thead>\n",
       "  <tbody>\n",
       "    <tr>\n",
       "      <th>0</th>\n",
       "      <td>A2CX7LUOHB2NDG</td>\n",
       "      <td>0321732944</td>\n",
       "      <td>5.0</td>\n",
       "      <td>1341100800</td>\n",
       "    </tr>\n",
       "    <tr>\n",
       "      <th>1</th>\n",
       "      <td>A2NWSAGRHCP8N5</td>\n",
       "      <td>0439886341</td>\n",
       "      <td>1.0</td>\n",
       "      <td>1367193600</td>\n",
       "    </tr>\n",
       "    <tr>\n",
       "      <th>2</th>\n",
       "      <td>A2WNBOD3WNDNKT</td>\n",
       "      <td>0439886341</td>\n",
       "      <td>3.0</td>\n",
       "      <td>1374451200</td>\n",
       "    </tr>\n",
       "    <tr>\n",
       "      <th>3</th>\n",
       "      <td>A1GI0U4ZRJA8WN</td>\n",
       "      <td>0439886341</td>\n",
       "      <td>1.0</td>\n",
       "      <td>1334707200</td>\n",
       "    </tr>\n",
       "    <tr>\n",
       "      <th>4</th>\n",
       "      <td>A1QGNMC6O1VW39</td>\n",
       "      <td>0511189877</td>\n",
       "      <td>5.0</td>\n",
       "      <td>1397433600</td>\n",
       "    </tr>\n",
       "  </tbody>\n",
       "</table>\n",
       "</div>"
      ],
      "text/plain": [
       "           userId   productId  Rating   timestamp\n",
       "0  A2CX7LUOHB2NDG  0321732944     5.0  1341100800\n",
       "1  A2NWSAGRHCP8N5  0439886341     1.0  1367193600\n",
       "2  A2WNBOD3WNDNKT  0439886341     3.0  1374451200\n",
       "3  A1GI0U4ZRJA8WN  0439886341     1.0  1334707200\n",
       "4  A1QGNMC6O1VW39  0511189877     5.0  1397433600"
      ]
     },
     "execution_count": 11,
     "metadata": {},
     "output_type": "execute_result"
    }
   ],
   "source": [
    "ratingdf.head()"
   ]
  },
  {
   "cell_type": "code",
   "execution_count": 12,
   "metadata": {},
   "outputs": [
    {
     "data": {
      "text/plain": [
       "(7824481, 4)"
      ]
     },
     "execution_count": 12,
     "metadata": {},
     "output_type": "execute_result"
    }
   ],
   "source": [
    "ratingdf.shape"
   ]
  },
  {
   "cell_type": "code",
   "execution_count": 13,
   "metadata": {},
   "outputs": [
    {
     "data": {
      "text/plain": [
       "userId        object\n",
       "productId     object\n",
       "Rating       float64\n",
       "timestamp      int64\n",
       "dtype: object"
      ]
     },
     "execution_count": 13,
     "metadata": {},
     "output_type": "execute_result"
    }
   ],
   "source": [
    "ratingdf.dtypes"
   ]
  },
  {
   "cell_type": "code",
   "execution_count": 14,
   "metadata": {},
   "outputs": [
    {
     "data": {
      "image/png": "[encoded data removed]",
      "text/plain": [
       "<Figure size 432x288 with 1 Axes>"
      ]
     },
     "metadata": {
      "needs_background": "light"
     },
     "output_type": "display_data"
    }
   ],
   "source": [
    "#plotting count of bookRating\n",
    "sns.countplot(data=ratingdf , x='Rating')\n",
    "plt.show()"
   ]
  },
  {
   "cell_type": "code",
   "execution_count": null,
   "metadata": {},
   "outputs": [],
   "source": [
    "# we can see that higher ratings(4&5) are more common amongst users and rating 5 has been rated highest number of times"
   ]
  },
  {
   "cell_type": "code",
   "execution_count": 14,
   "metadata": {
    "scrolled": true
   },
   "outputs": [
    {
     "data": {
      "text/plain": [
       "array(['0321732944', '0439886341', '0511189877', ..., 'BT008T2BGK',\n",
       "       'BT008UKTMW', 'BT008V9J9U'], dtype=object)"
      ]
     },
     "execution_count": 14,
     "metadata": {},
     "output_type": "execute_result"
    }
   ],
   "source": [
    "ratingdf.productId.unique()"
   ]
  },
  {
   "cell_type": "code",
   "execution_count": 15,
   "metadata": {
    "scrolled": true
   },
   "outputs": [
    {
     "data": {
      "text/html": [
       "<div>\n",
       "<style scoped>\n",
       "    .dataframe tbody tr th:only-of-type {\n",
       "        vertical-align: middle;\n",
       "    }\n",
       "\n",
       "    .dataframe tbody tr th {\n",
       "        vertical-align: top;\n",
       "    }\n",
       "\n",
       "    .dataframe thead th {\n",
       "        text-align: right;\n",
       "    }\n",
       "</style>\n",
       "<table border=\"1\" class=\"dataframe\">\n",
       "  <thead>\n",
       "    <tr style=\"text-align: right;\">\n",
       "      <th></th>\n",
       "      <th>userId</th>\n",
       "      <th>Rating</th>\n",
       "    </tr>\n",
       "  </thead>\n",
       "  <tbody>\n",
       "    <tr>\n",
       "      <th>3263531</th>\n",
       "      <td>A5JLAU2ARJ0BO</td>\n",
       "      <td>520</td>\n",
       "    </tr>\n",
       "    <tr>\n",
       "      <th>3512451</th>\n",
       "      <td>ADLVFFE4VBT8</td>\n",
       "      <td>501</td>\n",
       "    </tr>\n",
       "    <tr>\n",
       "      <th>2989526</th>\n",
       "      <td>A3OXHLG6DIBRW8</td>\n",
       "      <td>498</td>\n",
       "    </tr>\n",
       "    <tr>\n",
       "      <th>3291008</th>\n",
       "      <td>A6FIAB28IS79</td>\n",
       "      <td>431</td>\n",
       "    </tr>\n",
       "    <tr>\n",
       "      <th>3284634</th>\n",
       "      <td>A680RUE1FDO8B</td>\n",
       "      <td>406</td>\n",
       "    </tr>\n",
       "    <tr>\n",
       "      <th>755206</th>\n",
       "      <td>A1ODOGXEYECQQ8</td>\n",
       "      <td>380</td>\n",
       "    </tr>\n",
       "    <tr>\n",
       "      <th>2424036</th>\n",
       "      <td>A36K2N527TXXJN</td>\n",
       "      <td>314</td>\n",
       "    </tr>\n",
       "    <tr>\n",
       "      <th>1451394</th>\n",
       "      <td>A2AY4YUOX2N1BQ</td>\n",
       "      <td>311</td>\n",
       "    </tr>\n",
       "    <tr>\n",
       "      <th>4100926</th>\n",
       "      <td>AWPODHOB4GFWL</td>\n",
       "      <td>308</td>\n",
       "    </tr>\n",
       "    <tr>\n",
       "      <th>3935038</th>\n",
       "      <td>ARBKYIVNYWK3C</td>\n",
       "      <td>296</td>\n",
       "    </tr>\n",
       "  </tbody>\n",
       "</table>\n",
       "</div>"
      ],
      "text/plain": [
       "                 userId  Rating\n",
       "3263531   A5JLAU2ARJ0BO     520\n",
       "3512451    ADLVFFE4VBT8     501\n",
       "2989526  A3OXHLG6DIBRW8     498\n",
       "3291008    A6FIAB28IS79     431\n",
       "3284634   A680RUE1FDO8B     406\n",
       "755206   A1ODOGXEYECQQ8     380\n",
       "2424036  A36K2N527TXXJN     314\n",
       "1451394  A2AY4YUOX2N1BQ     311\n",
       "4100926   AWPODHOB4GFWL     308\n",
       "3935038   ARBKYIVNYWK3C     296"
      ]
     },
     "execution_count": 15,
     "metadata": {},
     "output_type": "execute_result"
    }
   ],
   "source": [
    "#Rating distributed by the user/ popular users\n",
    "ratingdf.groupby('userId')['Rating'].count().reset_index().sort_values('Rating', ascending=False)[:10]"
   ]
  },
  {
   "cell_type": "markdown",
   "metadata": {},
   "source": [
    "Most of the users gave 4/ 5 ratings, and very few users gave low ratings, although the most productive user has given 520 ratings"
   ]
  },
  {
   "cell_type": "code",
   "execution_count": 16,
   "metadata": {
    "scrolled": false
   },
   "outputs": [
    {
     "data": {
      "text/html": [
       "<div>\n",
       "<style scoped>\n",
       "    .dataframe tbody tr th:only-of-type {\n",
       "        vertical-align: middle;\n",
       "    }\n",
       "\n",
       "    .dataframe tbody tr th {\n",
       "        vertical-align: top;\n",
       "    }\n",
       "\n",
       "    .dataframe thead th {\n",
       "        text-align: right;\n",
       "    }\n",
       "</style>\n",
       "<table border=\"1\" class=\"dataframe\">\n",
       "  <thead>\n",
       "    <tr style=\"text-align: right;\">\n",
       "      <th></th>\n",
       "      <th>productId</th>\n",
       "      <th>Rating</th>\n",
       "    </tr>\n",
       "  </thead>\n",
       "  <tbody>\n",
       "    <tr>\n",
       "      <th>308397</th>\n",
       "      <td>B0074BW614</td>\n",
       "      <td>18244</td>\n",
       "    </tr>\n",
       "    <tr>\n",
       "      <th>429571</th>\n",
       "      <td>B00DR0PDNE</td>\n",
       "      <td>16454</td>\n",
       "    </tr>\n",
       "    <tr>\n",
       "      <th>327307</th>\n",
       "      <td>B007WTAJTO</td>\n",
       "      <td>14172</td>\n",
       "    </tr>\n",
       "    <tr>\n",
       "      <th>102803</th>\n",
       "      <td>B0019EHU8G</td>\n",
       "      <td>12285</td>\n",
       "    </tr>\n",
       "    <tr>\n",
       "      <th>296624</th>\n",
       "      <td>B006GWO5WK</td>\n",
       "      <td>12226</td>\n",
       "    </tr>\n",
       "    <tr>\n",
       "      <th>178600</th>\n",
       "      <td>B003ELYQGG</td>\n",
       "      <td>11617</td>\n",
       "    </tr>\n",
       "    <tr>\n",
       "      <th>178812</th>\n",
       "      <td>B003ES5ZUU</td>\n",
       "      <td>10276</td>\n",
       "    </tr>\n",
       "    <tr>\n",
       "      <th>323012</th>\n",
       "      <td>B007R5YDYA</td>\n",
       "      <td>9907</td>\n",
       "    </tr>\n",
       "    <tr>\n",
       "      <th>289774</th>\n",
       "      <td>B00622AG6S</td>\n",
       "      <td>9823</td>\n",
       "    </tr>\n",
       "    <tr>\n",
       "      <th>30275</th>\n",
       "      <td>B0002L5R78</td>\n",
       "      <td>9487</td>\n",
       "    </tr>\n",
       "  </tbody>\n",
       "</table>\n",
       "</div>"
      ],
      "text/plain": [
       "         productId  Rating\n",
       "308397  B0074BW614   18244\n",
       "429571  B00DR0PDNE   16454\n",
       "327307  B007WTAJTO   14172\n",
       "102803  B0019EHU8G   12285\n",
       "296624  B006GWO5WK   12226\n",
       "178600  B003ELYQGG   11617\n",
       "178812  B003ES5ZUU   10276\n",
       "323012  B007R5YDYA    9907\n",
       "289774  B00622AG6S    9823\n",
       "30275   B0002L5R78    9487"
      ]
     },
     "execution_count": 16,
     "metadata": {},
     "output_type": "execute_result"
    }
   ],
   "source": [
    "#Rating distributed by the products or popular products\n",
    "ratingdf.groupby('productId')['Rating'].count().reset_index().sort_values('Rating', ascending=False)[:10]"
   ]
  },
  {
   "cell_type": "markdown",
   "metadata": {},
   "source": [
    "many of the products in data received 5 ratings ,although the most rated products has received 18244 ratings."
   ]
  },
  {
   "cell_type": "markdown",
   "metadata": {},
   "source": [
    "# Ratings distribution by product"
   ]
  },
  {
   "cell_type": "markdown",
   "metadata": {},
   "source": [
    "# Create subset of data\n",
    "To reduce the dimensionality of the dataset, we will filter out rarely rated products and rarely rating users"
   ]
  },
  {
   "cell_type": "code",
   "execution_count": 16,
   "metadata": {},
   "outputs": [],
   "source": [
    "#We will keep users only who has given 50 or more number of ratings\n",
    "users_count=ratingdf['userId'].value_counts()"
   ]
  },
  {
   "cell_type": "code",
   "execution_count": 17,
   "metadata": {},
   "outputs": [
    {
     "data": {
      "text/plain": [
       "A5JLAU2ARJ0BO     520\n",
       "ADLVFFE4VBT8      501\n",
       "A3OXHLG6DIBRW8    498\n",
       "A6FIAB28IS79      431\n",
       "A680RUE1FDO8B     406\n",
       "                 ... \n",
       "A2WA8TDCTGUADI     51\n",
       "A2C8I2RQ0WG940     51\n",
       "A3AGQAXTX6VRJ3     51\n",
       "A57Q87B0TC9IJ      51\n",
       "AWPN47SSWK1JV      51\n",
       "Name: userId, Length: 1466, dtype: int64"
      ]
     },
     "execution_count": 17,
     "metadata": {},
     "output_type": "execute_result"
    }
   ],
   "source": [
    "users_count[users_count>50]"
   ]
  },
  {
   "cell_type": "code",
   "execution_count": 18,
   "metadata": {},
   "outputs": [],
   "source": [
    "filterdf=ratingdf[ratingdf['userId'].isin(users_count[users_count>50].index)]"
   ]
  },
  {
   "cell_type": "code",
   "execution_count": 19,
   "metadata": {},
   "outputs": [
    {
     "data": {
      "text/plain": [
       "(122171, 4)"
      ]
     },
     "execution_count": 19,
     "metadata": {},
     "output_type": "execute_result"
    }
   ],
   "source": [
    "filterdf.shape"
   ]
  },
  {
   "cell_type": "code",
   "execution_count": 20,
   "metadata": {},
   "outputs": [
    {
     "name": "stdout",
     "output_type": "stream",
     "text": [
      "The original data frame shape:\t(7824481, 4)\n",
      "The new data frame shape:\t(122171, 4)\n"
     ]
    }
   ],
   "source": [
    "print('The original data frame shape:\\t{}'.format(ratingdf.shape))\n",
    "print('The new data frame shape:\\t{}'.format(filterdf.shape))"
   ]
  },
  {
   "cell_type": "code",
   "execution_count": 38,
   "metadata": {},
   "outputs": [],
   "source": [
    "#We can see that we have reduced our dataset size from 7824481 to 122171"
   ]
  },
  {
   "cell_type": "markdown",
   "metadata": {},
   "source": [
    "# Recommender systems Using the Surprise package"
   ]
  },
  {
   "cell_type": "markdown",
   "metadata": {},
   "source": [
    "We use “rmse” as our accuracy metric for the predictions"
   ]
  },
  {
   "cell_type": "code",
   "execution_count": 2,
   "metadata": {},
   "outputs": [],
   "source": [
    "from surprise import Dataset\n",
    "from surprise import Reader\n",
    "from surprise.model_selection import train_test_split\n",
    "from surprise.model_selection import cross_validate\n",
    "from surprise import SVD\n",
    "from surprise import KNNBasic\n",
    "from surprise.accuracy import rmse\n",
    "from surprise import accuracy"
   ]
  },
  {
   "cell_type": "code",
   "execution_count": 32,
   "metadata": {},
   "outputs": [
    {
     "name": "stdout",
     "output_type": "stream",
     "text": [
      "Review range: 1.0 to 5.0\n"
     ]
    }
   ],
   "source": [
    "lrating=filterdf['Rating'].min()\n",
    "urating=filterdf['Rating'].max()\n",
    "print('Review range: {0} to {1}'.format(lrating,urating))"
   ]
  },
  {
   "cell_type": "code",
   "execution_count": 33,
   "metadata": {},
   "outputs": [],
   "source": [
    "# A reader is needed to specify the range of the reviews so only the rating_scale param is required.\n",
    "reader=Reader(rating_scale=(1,5))\n",
    "# The columns must correspond to user id, item id and ratings (in that order) as this is the input of the matrix factorisation method\n",
    "data = Dataset.load_from_df(filterdf[['userId', 'productId', 'Rating']], reader)"
   ]
  },
  {
   "cell_type": "markdown",
   "metadata": {},
   "source": [
    "# Using different algorithms"
   ]
  },
  {
   "cell_type": "code",
   "execution_count": 37,
   "metadata": {},
   "outputs": [
    {
     "name": "stdout",
     "output_type": "stream",
     "text": [
      "Estimating biases using als...\n",
      "Computing the msd similarity matrix...\n",
      "Done computing similarity matrix.\n",
      "Estimating biases using als...\n",
      "Computing the msd similarity matrix...\n",
      "Done computing similarity matrix.\n",
      "Estimating biases using als...\n",
      "Computing the msd similarity matrix...\n",
      "Done computing similarity matrix.\n",
      "Computing the msd similarity matrix...\n",
      "Done computing similarity matrix.\n",
      "Computing the msd similarity matrix...\n",
      "Done computing similarity matrix.\n",
      "Computing the msd similarity matrix...\n",
      "Done computing similarity matrix.\n",
      "Estimating biases using als...\n",
      "Estimating biases using als...\n",
      "Estimating biases using als...\n"
     ]
    },
    {
     "data": {
      "text/html": [
       "<div>\n",
       "<style scoped>\n",
       "    .dataframe tbody tr th:only-of-type {\n",
       "        vertical-align: middle;\n",
       "    }\n",
       "\n",
       "    .dataframe tbody tr th {\n",
       "        vertical-align: top;\n",
       "    }\n",
       "\n",
       "    .dataframe thead th {\n",
       "        text-align: right;\n",
       "    }\n",
       "</style>\n",
       "<table border=\"1\" class=\"dataframe\">\n",
       "  <thead>\n",
       "    <tr style=\"text-align: right;\">\n",
       "      <th></th>\n",
       "      <th>test_rmse</th>\n",
       "      <th>fit_time</th>\n",
       "      <th>test_time</th>\n",
       "    </tr>\n",
       "    <tr>\n",
       "      <th>Algorithm</th>\n",
       "      <th></th>\n",
       "      <th></th>\n",
       "      <th></th>\n",
       "    </tr>\n",
       "  </thead>\n",
       "  <tbody>\n",
       "    <tr>\n",
       "      <th>BaselineOnly</th>\n",
       "      <td>0.979150</td>\n",
       "      <td>0.374958</td>\n",
       "      <td>0.230638</td>\n",
       "    </tr>\n",
       "    <tr>\n",
       "      <th>SVD</th>\n",
       "      <td>0.983123</td>\n",
       "      <td>4.823208</td>\n",
       "      <td>0.290069</td>\n",
       "    </tr>\n",
       "    <tr>\n",
       "      <th>KNNBaseline</th>\n",
       "      <td>1.040478</td>\n",
       "      <td>0.466759</td>\n",
       "      <td>0.772360</td>\n",
       "    </tr>\n",
       "    <tr>\n",
       "      <th>KNNWithMeans</th>\n",
       "      <td>1.063952</td>\n",
       "      <td>0.168496</td>\n",
       "      <td>0.714408</td>\n",
       "    </tr>\n",
       "  </tbody>\n",
       "</table>\n",
       "</div>"
      ],
      "text/plain": [
       "              test_rmse  fit_time  test_time\n",
       "Algorithm                                   \n",
       "BaselineOnly   0.979150  0.374958   0.230638\n",
       "SVD            0.983123  4.823208   0.290069\n",
       "KNNBaseline    1.040478  0.466759   0.772360\n",
       "KNNWithMeans   1.063952  0.168496   0.714408"
      ]
     },
     "execution_count": 37,
     "metadata": {},
     "output_type": "execute_result"
    }
   ],
   "source": [
    "benchmark=[]\n",
    "#iterate over the below algos\n",
    "for algorithm in [SVD(), KNNBaseline(),KNNWithMeans(), BaselineOnly()]: \n",
    "    #perform cross validartion\n",
    "    results=cross_validate(algorithm,data,measures=['RMSE'],cv=3,verbose=False)\n",
    "    tmp=pd.DataFrame.from_dict(results).mean(axis=0)\n",
    "    tmp=tmp.append(pd.Series([str(algorithm).split(' ')[0].split('.')[-1]],index=['Algorithm']))\n",
    "    benchmark.append(tmp)\n",
    "    \n",
    "pd.DataFrame(benchmark).set_index('Algorithm').sort_values('test_rmse')      "
   ]
  },
  {
   "cell_type": "markdown",
   "metadata": {},
   "source": [
    "From the above, we can see that BaselineOnly algo gives us the best RMSE of 0.979(lowest), therefore we will train and predict with BaselineOnly and use AlternateLeastSquares(ALS)"
   ]
  },
  {
   "cell_type": "code",
   "execution_count": 42,
   "metadata": {},
   "outputs": [
    {
     "name": "stdout",
     "output_type": "stream",
     "text": [
      "Estimating biases using als...\n",
      "Estimating biases using als...\n",
      "Estimating biases using als...\n"
     ]
    },
    {
     "data": {
      "text/plain": [
       "{'test_rmse': array([0.97171654, 0.97572498, 0.98491438]),\n",
       " 'fit_time': (0.17800617218017578, 0.21052002906799316, 0.21723604202270508),\n",
       " 'test_time': (0.2330172061920166, 0.22957897186279297, 0.21122503280639648)}"
      ]
     },
     "execution_count": 42,
     "metadata": {},
     "output_type": "execute_result"
    }
   ],
   "source": [
    "#Using the AlternateLeastSquares(ALS)\n",
    "bsl_options={'method':'als',\n",
    "             'n_epochs': 5,\n",
    "             'reg_u': 12,\n",
    "             'reg_i': 5\n",
    "            }\n",
    "algo=BaselineOnly(bsl_options=bsl_options)\n",
    "cross_validate(algo, data, measures=['RMSE'], cv=3, verbose=False)"
   ]
  },
  {
   "cell_type": "code",
   "execution_count": 41,
   "metadata": {},
   "outputs": [],
   "source": [
    "#using ALS , we are able to reduce the RMSE a bit and getting the best results"
   ]
  },
  {
   "cell_type": "code",
   "execution_count": 48,
   "metadata": {
    "scrolled": true
   },
   "outputs": [
    {
     "name": "stdout",
     "output_type": "stream",
     "text": [
      "Estimating biases using als...\n",
      "RMSE: 0.9793\n"
     ]
    },
    {
     "data": {
      "text/plain": [
       "0.979308528478391"
      ]
     },
     "execution_count": 48,
     "metadata": {},
     "output_type": "execute_result"
    }
   ],
   "source": [
    "trainset, testset = train_test_split(data, test_size=0.30)\n",
    "algo=BaselineOnly(bsl_options=bsl_options)\n",
    "algo.fit(trainset)\n",
    "predictions =algo.test(testset)\n",
    "# Compute and print Root Mean Squared Error\n",
    "accuracy.rmse(predictions)"
   ]
  },
  {
   "cell_type": "code",
   "execution_count": 176,
   "metadata": {},
   "outputs": [],
   "source": [
    "def get_Iu(uid):\n",
    "    \"\"\" return the number of items rated by given user\n",
    "    args: \n",
    "      uid: the id of the user\n",
    "    returns: \n",
    "      the number of items rated by the user\n",
    "    \"\"\"\n",
    "    try:\n",
    "        return len(trainset.ur[trainset.to_inner_uid(uid)])\n",
    "    except ValueError: # user was not part of the trainset\n",
    "        return 0\n",
    "    \n",
    "def get_Ui(iid):\n",
    "    \"\"\" return number of users that have rated given item\n",
    "    args:\n",
    "      iid: the raw id of the item\n",
    "    returns:\n",
    "      the number of users that have rated the item.\n",
    "    \"\"\"\n",
    "    try: \n",
    "        return len(trainset.ir[trainset.to_inner_iid(iid)])\n",
    "    except ValueError:\n",
    "        return 0\n",
    "    \n",
    "df = pd.DataFrame(predictions, columns=['uid', 'iid', 'rui', 'est', 'details'])\n",
    "df['Iu'] = df.uid.apply(get_Iu)\n",
    "df['Ui'] = df.iid.apply(get_Ui)\n",
    "df['err'] = abs(df.est - df.rui)"
   ]
  },
  {
   "cell_type": "code",
   "execution_count": 177,
   "metadata": {
    "scrolled": true
   },
   "outputs": [
    {
     "data": {
      "text/html": [
       "<div>\n",
       "<style scoped>\n",
       "    .dataframe tbody tr th:only-of-type {\n",
       "        vertical-align: middle;\n",
       "    }\n",
       "\n",
       "    .dataframe tbody tr th {\n",
       "        vertical-align: top;\n",
       "    }\n",
       "\n",
       "    .dataframe thead th {\n",
       "        text-align: right;\n",
       "    }\n",
       "</style>\n",
       "<table border=\"1\" class=\"dataframe\">\n",
       "  <thead>\n",
       "    <tr style=\"text-align: right;\">\n",
       "      <th></th>\n",
       "      <th>uid</th>\n",
       "      <th>iid</th>\n",
       "      <th>rui</th>\n",
       "      <th>est</th>\n",
       "      <th>details</th>\n",
       "      <th>Iu</th>\n",
       "      <th>Ui</th>\n",
       "      <th>err</th>\n",
       "    </tr>\n",
       "  </thead>\n",
       "  <tbody>\n",
       "    <tr>\n",
       "      <th>0</th>\n",
       "      <td>AKT8TGIT6VVZ5</td>\n",
       "      <td>B00DR0PDNE</td>\n",
       "      <td>4.261533</td>\n",
       "      <td>4.84058</td>\n",
       "      <td>{'actual_k': 0, 'was_impossible': False}</td>\n",
       "      <td>138</td>\n",
       "      <td>57</td>\n",
       "      <td>0.579047</td>\n",
       "    </tr>\n",
       "    <tr>\n",
       "      <th>1</th>\n",
       "      <td>AKT8TGIT6VVZ5</td>\n",
       "      <td>B00104XCVO</td>\n",
       "      <td>4.261533</td>\n",
       "      <td>4.84058</td>\n",
       "      <td>{'actual_k': 0, 'was_impossible': False}</td>\n",
       "      <td>138</td>\n",
       "      <td>12</td>\n",
       "      <td>0.579047</td>\n",
       "    </tr>\n",
       "    <tr>\n",
       "      <th>2</th>\n",
       "      <td>AKT8TGIT6VVZ5</td>\n",
       "      <td>B00077KMXG</td>\n",
       "      <td>4.261533</td>\n",
       "      <td>4.84058</td>\n",
       "      <td>{'actual_k': 0, 'was_impossible': False}</td>\n",
       "      <td>138</td>\n",
       "      <td>1</td>\n",
       "      <td>0.579047</td>\n",
       "    </tr>\n",
       "    <tr>\n",
       "      <th>3</th>\n",
       "      <td>AKT8TGIT6VVZ5</td>\n",
       "      <td>B00005T3WF</td>\n",
       "      <td>4.261533</td>\n",
       "      <td>4.84058</td>\n",
       "      <td>{'actual_k': 0, 'was_impossible': False}</td>\n",
       "      <td>138</td>\n",
       "      <td>1</td>\n",
       "      <td>0.579047</td>\n",
       "    </tr>\n",
       "    <tr>\n",
       "      <th>4</th>\n",
       "      <td>AKT8TGIT6VVZ5</td>\n",
       "      <td>B008ULPE70</td>\n",
       "      <td>4.261533</td>\n",
       "      <td>4.84058</td>\n",
       "      <td>{'actual_k': 0, 'was_impossible': False}</td>\n",
       "      <td>138</td>\n",
       "      <td>26</td>\n",
       "      <td>0.579047</td>\n",
       "    </tr>\n",
       "  </tbody>\n",
       "</table>\n",
       "</div>"
      ],
      "text/plain": [
       "             uid         iid       rui      est  \\\n",
       "0  AKT8TGIT6VVZ5  B00DR0PDNE  4.261533  4.84058   \n",
       "1  AKT8TGIT6VVZ5  B00104XCVO  4.261533  4.84058   \n",
       "2  AKT8TGIT6VVZ5  B00077KMXG  4.261533  4.84058   \n",
       "3  AKT8TGIT6VVZ5  B00005T3WF  4.261533  4.84058   \n",
       "4  AKT8TGIT6VVZ5  B008ULPE70  4.261533  4.84058   \n",
       "\n",
       "                                    details   Iu  Ui       err  \n",
       "0  {'actual_k': 0, 'was_impossible': False}  138  57  0.579047  \n",
       "1  {'actual_k': 0, 'was_impossible': False}  138  12  0.579047  \n",
       "2  {'actual_k': 0, 'was_impossible': False}  138   1  0.579047  \n",
       "3  {'actual_k': 0, 'was_impossible': False}  138   1  0.579047  \n",
       "4  {'actual_k': 0, 'was_impossible': False}  138  26  0.579047  "
      ]
     },
     "execution_count": 177,
     "metadata": {},
     "output_type": "execute_result"
    }
   ],
   "source": [
    "df.head()"
   ]
  },
  {
   "cell_type": "code",
   "execution_count": 178,
   "metadata": {},
   "outputs": [],
   "source": [
    "best_predictions = df.sort_values(by='err')[:10]\n",
    "worst_predictions = df.sort_values(by='err')[-10:]"
   ]
  },
  {
   "cell_type": "code",
   "execution_count": 179,
   "metadata": {
    "scrolled": true
   },
   "outputs": [
    {
     "data": {
      "text/html": [
       "<div>\n",
       "<style scoped>\n",
       "    .dataframe tbody tr th:only-of-type {\n",
       "        vertical-align: middle;\n",
       "    }\n",
       "\n",
       "    .dataframe tbody tr th {\n",
       "        vertical-align: top;\n",
       "    }\n",
       "\n",
       "    .dataframe thead th {\n",
       "        text-align: right;\n",
       "    }\n",
       "</style>\n",
       "<table border=\"1\" class=\"dataframe\">\n",
       "  <thead>\n",
       "    <tr style=\"text-align: right;\">\n",
       "      <th></th>\n",
       "      <th>uid</th>\n",
       "      <th>iid</th>\n",
       "      <th>rui</th>\n",
       "      <th>est</th>\n",
       "      <th>details</th>\n",
       "      <th>Iu</th>\n",
       "      <th>Ui</th>\n",
       "      <th>err</th>\n",
       "    </tr>\n",
       "  </thead>\n",
       "  <tbody>\n",
       "    <tr>\n",
       "      <th>38094</th>\n",
       "      <td>A3OZA8HNJM26DC</td>\n",
       "      <td>B0035PS57C</td>\n",
       "      <td>4.261533</td>\n",
       "      <td>4.230379</td>\n",
       "      <td>{'actual_k': 1, 'was_impossible': False}</td>\n",
       "      <td>37</td>\n",
       "      <td>3</td>\n",
       "      <td>0.031153</td>\n",
       "    </tr>\n",
       "    <tr>\n",
       "      <th>44162</th>\n",
       "      <td>A3OZA8HNJM26DC</td>\n",
       "      <td>B000UXDHNY</td>\n",
       "      <td>4.261533</td>\n",
       "      <td>4.230379</td>\n",
       "      <td>{'actual_k': 1, 'was_impossible': False}</td>\n",
       "      <td>37</td>\n",
       "      <td>2</td>\n",
       "      <td>0.031153</td>\n",
       "    </tr>\n",
       "    <tr>\n",
       "      <th>43923</th>\n",
       "      <td>A3OZA8HNJM26DC</td>\n",
       "      <td>B002FB5HD2</td>\n",
       "      <td>4.261533</td>\n",
       "      <td>4.230379</td>\n",
       "      <td>{'actual_k': 1, 'was_impossible': False}</td>\n",
       "      <td>37</td>\n",
       "      <td>1</td>\n",
       "      <td>0.031153</td>\n",
       "    </tr>\n",
       "    <tr>\n",
       "      <th>43801</th>\n",
       "      <td>A3OZA8HNJM26DC</td>\n",
       "      <td>B008PO6LO2</td>\n",
       "      <td>4.261533</td>\n",
       "      <td>4.230379</td>\n",
       "      <td>{'actual_k': 1, 'was_impossible': False}</td>\n",
       "      <td>37</td>\n",
       "      <td>1</td>\n",
       "      <td>0.031153</td>\n",
       "    </tr>\n",
       "    <tr>\n",
       "      <th>43586</th>\n",
       "      <td>A3OZA8HNJM26DC</td>\n",
       "      <td>B0002A9U7M</td>\n",
       "      <td>4.261533</td>\n",
       "      <td>4.230379</td>\n",
       "      <td>{'actual_k': 1, 'was_impossible': False}</td>\n",
       "      <td>37</td>\n",
       "      <td>4</td>\n",
       "      <td>0.031153</td>\n",
       "    </tr>\n",
       "    <tr>\n",
       "      <th>43576</th>\n",
       "      <td>A3OZA8HNJM26DC</td>\n",
       "      <td>B001AGM2VI</td>\n",
       "      <td>4.261533</td>\n",
       "      <td>4.230379</td>\n",
       "      <td>{'actual_k': 1, 'was_impossible': False}</td>\n",
       "      <td>37</td>\n",
       "      <td>8</td>\n",
       "      <td>0.031153</td>\n",
       "    </tr>\n",
       "    <tr>\n",
       "      <th>68654</th>\n",
       "      <td>A3OZA8HNJM26DC</td>\n",
       "      <td>B0099F32MK</td>\n",
       "      <td>4.261533</td>\n",
       "      <td>4.230379</td>\n",
       "      <td>{'actual_k': 1, 'was_impossible': False}</td>\n",
       "      <td>37</td>\n",
       "      <td>1</td>\n",
       "      <td>0.031153</td>\n",
       "    </tr>\n",
       "    <tr>\n",
       "      <th>43357</th>\n",
       "      <td>A3OZA8HNJM26DC</td>\n",
       "      <td>B0090XWU8S</td>\n",
       "      <td>4.261533</td>\n",
       "      <td>4.230379</td>\n",
       "      <td>{'actual_k': 1, 'was_impossible': False}</td>\n",
       "      <td>37</td>\n",
       "      <td>6</td>\n",
       "      <td>0.031153</td>\n",
       "    </tr>\n",
       "    <tr>\n",
       "      <th>43330</th>\n",
       "      <td>A3OZA8HNJM26DC</td>\n",
       "      <td>B000TH0VPS</td>\n",
       "      <td>4.261533</td>\n",
       "      <td>4.230379</td>\n",
       "      <td>{'actual_k': 1, 'was_impossible': False}</td>\n",
       "      <td>37</td>\n",
       "      <td>1</td>\n",
       "      <td>0.031153</td>\n",
       "    </tr>\n",
       "    <tr>\n",
       "      <th>43249</th>\n",
       "      <td>A3OZA8HNJM26DC</td>\n",
       "      <td>B006L8TX94</td>\n",
       "      <td>4.261533</td>\n",
       "      <td>4.230379</td>\n",
       "      <td>{'actual_k': 1, 'was_impossible': False}</td>\n",
       "      <td>37</td>\n",
       "      <td>2</td>\n",
       "      <td>0.031153</td>\n",
       "    </tr>\n",
       "  </tbody>\n",
       "</table>\n",
       "</div>"
      ],
      "text/plain": [
       "                  uid         iid       rui       est  \\\n",
       "38094  A3OZA8HNJM26DC  B0035PS57C  4.261533  4.230379   \n",
       "44162  A3OZA8HNJM26DC  B000UXDHNY  4.261533  4.230379   \n",
       "43923  A3OZA8HNJM26DC  B002FB5HD2  4.261533  4.230379   \n",
       "43801  A3OZA8HNJM26DC  B008PO6LO2  4.261533  4.230379   \n",
       "43586  A3OZA8HNJM26DC  B0002A9U7M  4.261533  4.230379   \n",
       "43576  A3OZA8HNJM26DC  B001AGM2VI  4.261533  4.230379   \n",
       "68654  A3OZA8HNJM26DC  B0099F32MK  4.261533  4.230379   \n",
       "43357  A3OZA8HNJM26DC  B0090XWU8S  4.261533  4.230379   \n",
       "43330  A3OZA8HNJM26DC  B000TH0VPS  4.261533  4.230379   \n",
       "43249  A3OZA8HNJM26DC  B006L8TX94  4.261533  4.230379   \n",
       "\n",
       "                                        details  Iu  Ui       err  \n",
       "38094  {'actual_k': 1, 'was_impossible': False}  37   3  0.031153  \n",
       "44162  {'actual_k': 1, 'was_impossible': False}  37   2  0.031153  \n",
       "43923  {'actual_k': 1, 'was_impossible': False}  37   1  0.031153  \n",
       "43801  {'actual_k': 1, 'was_impossible': False}  37   1  0.031153  \n",
       "43586  {'actual_k': 1, 'was_impossible': False}  37   4  0.031153  \n",
       "43576  {'actual_k': 1, 'was_impossible': False}  37   8  0.031153  \n",
       "68654  {'actual_k': 1, 'was_impossible': False}  37   1  0.031153  \n",
       "43357  {'actual_k': 1, 'was_impossible': False}  37   6  0.031153  \n",
       "43330  {'actual_k': 1, 'was_impossible': False}  37   1  0.031153  \n",
       "43249  {'actual_k': 1, 'was_impossible': False}  37   2  0.031153  "
      ]
     },
     "execution_count": 179,
     "metadata": {},
     "output_type": "execute_result"
    }
   ],
   "source": [
    "best_predictions"
   ]
  },
  {
   "cell_type": "code",
   "execution_count": 180,
   "metadata": {},
   "outputs": [
    {
     "data": {
      "text/html": [
       "<div>\n",
       "<style scoped>\n",
       "    .dataframe tbody tr th:only-of-type {\n",
       "        vertical-align: middle;\n",
       "    }\n",
       "\n",
       "    .dataframe tbody tr th {\n",
       "        vertical-align: top;\n",
       "    }\n",
       "\n",
       "    .dataframe thead th {\n",
       "        text-align: right;\n",
       "    }\n",
       "</style>\n",
       "<table border=\"1\" class=\"dataframe\">\n",
       "  <thead>\n",
       "    <tr style=\"text-align: right;\">\n",
       "      <th></th>\n",
       "      <th>uid</th>\n",
       "      <th>iid</th>\n",
       "      <th>rui</th>\n",
       "      <th>est</th>\n",
       "      <th>details</th>\n",
       "      <th>Iu</th>\n",
       "      <th>Ui</th>\n",
       "      <th>err</th>\n",
       "    </tr>\n",
       "  </thead>\n",
       "  <tbody>\n",
       "    <tr>\n",
       "      <th>52281</th>\n",
       "      <td>A3OZA8HNJM26DC</td>\n",
       "      <td>B006CNRRLE</td>\n",
       "      <td>4.261533</td>\n",
       "      <td>1.105792</td>\n",
       "      <td>{'actual_k': 1, 'was_impossible': False}</td>\n",
       "      <td>37</td>\n",
       "      <td>1</td>\n",
       "      <td>3.155741</td>\n",
       "    </tr>\n",
       "    <tr>\n",
       "      <th>92046</th>\n",
       "      <td>A3SOJO7Z7R9WIA</td>\n",
       "      <td>B005SP2QDG</td>\n",
       "      <td>4.261533</td>\n",
       "      <td>1.000000</td>\n",
       "      <td>{'actual_k': 1, 'was_impossible': False}</td>\n",
       "      <td>62</td>\n",
       "      <td>1</td>\n",
       "      <td>3.261533</td>\n",
       "    </tr>\n",
       "    <tr>\n",
       "      <th>77475</th>\n",
       "      <td>A3SOJO7Z7R9WIA</td>\n",
       "      <td>B005WY3TD4</td>\n",
       "      <td>4.261533</td>\n",
       "      <td>1.000000</td>\n",
       "      <td>{'actual_k': 1, 'was_impossible': False}</td>\n",
       "      <td>62</td>\n",
       "      <td>4</td>\n",
       "      <td>3.261533</td>\n",
       "    </tr>\n",
       "    <tr>\n",
       "      <th>87742</th>\n",
       "      <td>A3SOJO7Z7R9WIA</td>\n",
       "      <td>B0009B0H08</td>\n",
       "      <td>4.261533</td>\n",
       "      <td>1.000000</td>\n",
       "      <td>{'actual_k': 1, 'was_impossible': False}</td>\n",
       "      <td>62</td>\n",
       "      <td>1</td>\n",
       "      <td>3.261533</td>\n",
       "    </tr>\n",
       "    <tr>\n",
       "      <th>90670</th>\n",
       "      <td>A3SOJO7Z7R9WIA</td>\n",
       "      <td>B00A6P0EBO</td>\n",
       "      <td>4.261533</td>\n",
       "      <td>1.000000</td>\n",
       "      <td>{'actual_k': 1, 'was_impossible': False}</td>\n",
       "      <td>62</td>\n",
       "      <td>3</td>\n",
       "      <td>3.261533</td>\n",
       "    </tr>\n",
       "    <tr>\n",
       "      <th>97510</th>\n",
       "      <td>A3SOJO7Z7R9WIA</td>\n",
       "      <td>B000BDDOP4</td>\n",
       "      <td>4.261533</td>\n",
       "      <td>1.000000</td>\n",
       "      <td>{'actual_k': 1, 'was_impossible': False}</td>\n",
       "      <td>62</td>\n",
       "      <td>2</td>\n",
       "      <td>3.261533</td>\n",
       "    </tr>\n",
       "    <tr>\n",
       "      <th>40267</th>\n",
       "      <td>A3OZA8HNJM26DC</td>\n",
       "      <td>B005DOK8NW</td>\n",
       "      <td>4.261533</td>\n",
       "      <td>1.000000</td>\n",
       "      <td>{'actual_k': 1, 'was_impossible': False}</td>\n",
       "      <td>37</td>\n",
       "      <td>21</td>\n",
       "      <td>3.261533</td>\n",
       "    </tr>\n",
       "    <tr>\n",
       "      <th>87563</th>\n",
       "      <td>A3SOJO7Z7R9WIA</td>\n",
       "      <td>B000T9251O</td>\n",
       "      <td>4.261533</td>\n",
       "      <td>1.000000</td>\n",
       "      <td>{'actual_k': 1, 'was_impossible': False}</td>\n",
       "      <td>62</td>\n",
       "      <td>5</td>\n",
       "      <td>3.261533</td>\n",
       "    </tr>\n",
       "    <tr>\n",
       "      <th>77113</th>\n",
       "      <td>A3SOJO7Z7R9WIA</td>\n",
       "      <td>B000ROK6LC</td>\n",
       "      <td>4.261533</td>\n",
       "      <td>1.000000</td>\n",
       "      <td>{'actual_k': 1, 'was_impossible': False}</td>\n",
       "      <td>62</td>\n",
       "      <td>1</td>\n",
       "      <td>3.261533</td>\n",
       "    </tr>\n",
       "    <tr>\n",
       "      <th>86447</th>\n",
       "      <td>A3SOJO7Z7R9WIA</td>\n",
       "      <td>B00426C56U</td>\n",
       "      <td>4.261533</td>\n",
       "      <td>1.000000</td>\n",
       "      <td>{'actual_k': 1, 'was_impossible': False}</td>\n",
       "      <td>62</td>\n",
       "      <td>11</td>\n",
       "      <td>3.261533</td>\n",
       "    </tr>\n",
       "  </tbody>\n",
       "</table>\n",
       "</div>"
      ],
      "text/plain": [
       "                  uid         iid       rui       est  \\\n",
       "52281  A3OZA8HNJM26DC  B006CNRRLE  4.261533  1.105792   \n",
       "92046  A3SOJO7Z7R9WIA  B005SP2QDG  4.261533  1.000000   \n",
       "77475  A3SOJO7Z7R9WIA  B005WY3TD4  4.261533  1.000000   \n",
       "87742  A3SOJO7Z7R9WIA  B0009B0H08  4.261533  1.000000   \n",
       "90670  A3SOJO7Z7R9WIA  B00A6P0EBO  4.261533  1.000000   \n",
       "97510  A3SOJO7Z7R9WIA  B000BDDOP4  4.261533  1.000000   \n",
       "40267  A3OZA8HNJM26DC  B005DOK8NW  4.261533  1.000000   \n",
       "87563  A3SOJO7Z7R9WIA  B000T9251O  4.261533  1.000000   \n",
       "77113  A3SOJO7Z7R9WIA  B000ROK6LC  4.261533  1.000000   \n",
       "86447  A3SOJO7Z7R9WIA  B00426C56U  4.261533  1.000000   \n",
       "\n",
       "                                        details  Iu  Ui       err  \n",
       "52281  {'actual_k': 1, 'was_impossible': False}  37   1  3.155741  \n",
       "92046  {'actual_k': 1, 'was_impossible': False}  62   1  3.261533  \n",
       "77475  {'actual_k': 1, 'was_impossible': False}  62   4  3.261533  \n",
       "87742  {'actual_k': 1, 'was_impossible': False}  62   1  3.261533  \n",
       "90670  {'actual_k': 1, 'was_impossible': False}  62   3  3.261533  \n",
       "97510  {'actual_k': 1, 'was_impossible': False}  62   2  3.261533  \n",
       "40267  {'actual_k': 1, 'was_impossible': False}  37  21  3.261533  \n",
       "87563  {'actual_k': 1, 'was_impossible': False}  62   5  3.261533  \n",
       "77113  {'actual_k': 1, 'was_impossible': False}  62   1  3.261533  \n",
       "86447  {'actual_k': 1, 'was_impossible': False}  62  11  3.261533  "
      ]
     },
     "execution_count": 180,
     "metadata": {},
     "output_type": "execute_result"
    }
   ],
   "source": [
    "worst_predictions"
   ]
  },
  {
   "cell_type": "markdown",
   "metadata": {},
   "source": [
    "# Popularity Recommender model"
   ]
  },
  {
   "cell_type": "markdown",
   "metadata": {},
   "source": [
    "In this model, the single-most factor considered is the star rating to generate a scalable recommendation system.This model eliminates the need for knowing other factors like user browsing history, user preferences, product category, price, and other factors."
   ]
  },
  {
   "cell_type": "code",
   "execution_count": 87,
   "metadata": {
    "scrolled": true
   },
   "outputs": [
    {
     "data": {
      "text/html": [
       "<div>\n",
       "<style scoped>\n",
       "    .dataframe tbody tr th:only-of-type {\n",
       "        vertical-align: middle;\n",
       "    }\n",
       "\n",
       "    .dataframe tbody tr th {\n",
       "        vertical-align: top;\n",
       "    }\n",
       "\n",
       "    .dataframe thead th {\n",
       "        text-align: right;\n",
       "    }\n",
       "</style>\n",
       "<table border=\"1\" class=\"dataframe\">\n",
       "  <thead>\n",
       "    <tr style=\"text-align: right;\">\n",
       "      <th></th>\n",
       "      <th>productId</th>\n",
       "      <th>userId</th>\n",
       "    </tr>\n",
       "  </thead>\n",
       "  <tbody>\n",
       "    <tr>\n",
       "      <th>0</th>\n",
       "      <td>0594481813</td>\n",
       "      <td>1</td>\n",
       "    </tr>\n",
       "    <tr>\n",
       "      <th>1</th>\n",
       "      <td>0970407998</td>\n",
       "      <td>2</td>\n",
       "    </tr>\n",
       "    <tr>\n",
       "      <th>2</th>\n",
       "      <td>0972683275</td>\n",
       "      <td>3</td>\n",
       "    </tr>\n",
       "    <tr>\n",
       "      <th>3</th>\n",
       "      <td>1400501466</td>\n",
       "      <td>5</td>\n",
       "    </tr>\n",
       "    <tr>\n",
       "      <th>4</th>\n",
       "      <td>1400501520</td>\n",
       "      <td>1</td>\n",
       "    </tr>\n",
       "  </tbody>\n",
       "</table>\n",
       "</div>"
      ],
      "text/plain": [
       "    productId  userId\n",
       "0  0594481813       1\n",
       "1  0970407998       2\n",
       "2  0972683275       3\n",
       "3  1400501466       5\n",
       "4  1400501520       1"
      ]
     },
     "execution_count": 87,
     "metadata": {},
     "output_type": "execute_result"
    }
   ],
   "source": [
    "#Count of user_id for each unique product as recommendation score\n",
    "data_grouped=filterdf.groupby('productId').agg({'userId':'count'}).reset_index()\n",
    "data_grouped.head(5)"
   ]
  },
  {
   "cell_type": "code",
   "execution_count": 89,
   "metadata": {
    "scrolled": true
   },
   "outputs": [
    {
     "data": {
      "text/html": [
       "<div>\n",
       "<style scoped>\n",
       "    .dataframe tbody tr th:only-of-type {\n",
       "        vertical-align: middle;\n",
       "    }\n",
       "\n",
       "    .dataframe tbody tr th {\n",
       "        vertical-align: top;\n",
       "    }\n",
       "\n",
       "    .dataframe thead th {\n",
       "        text-align: right;\n",
       "    }\n",
       "</style>\n",
       "<table border=\"1\" class=\"dataframe\">\n",
       "  <thead>\n",
       "    <tr style=\"text-align: right;\">\n",
       "      <th></th>\n",
       "      <th>productId</th>\n",
       "      <th>score</th>\n",
       "    </tr>\n",
       "  </thead>\n",
       "  <tbody>\n",
       "    <tr>\n",
       "      <th>0</th>\n",
       "      <td>0594481813</td>\n",
       "      <td>1</td>\n",
       "    </tr>\n",
       "    <tr>\n",
       "      <th>1</th>\n",
       "      <td>0970407998</td>\n",
       "      <td>2</td>\n",
       "    </tr>\n",
       "    <tr>\n",
       "      <th>2</th>\n",
       "      <td>0972683275</td>\n",
       "      <td>3</td>\n",
       "    </tr>\n",
       "    <tr>\n",
       "      <th>3</th>\n",
       "      <td>1400501466</td>\n",
       "      <td>5</td>\n",
       "    </tr>\n",
       "    <tr>\n",
       "      <th>4</th>\n",
       "      <td>1400501520</td>\n",
       "      <td>1</td>\n",
       "    </tr>\n",
       "  </tbody>\n",
       "</table>\n",
       "</div>"
      ],
      "text/plain": [
       "    productId  score\n",
       "0  0594481813      1\n",
       "1  0970407998      2\n",
       "2  0972683275      3\n",
       "3  1400501466      5\n",
       "4  1400501520      1"
      ]
     },
     "execution_count": 89,
     "metadata": {},
     "output_type": "execute_result"
    }
   ],
   "source": [
    "data_grouped.rename(columns={'userId':'score'},inplace=True)\n",
    "data_grouped.head(5)"
   ]
  },
  {
   "cell_type": "code",
   "execution_count": 90,
   "metadata": {},
   "outputs": [],
   "source": [
    "data_sort=data_grouped.sort_values(['score','productId'],ascending=[0,1])"
   ]
  },
  {
   "cell_type": "code",
   "execution_count": 91,
   "metadata": {},
   "outputs": [],
   "source": [
    "data_sort['Rank'] = data_sort['score'].rank(ascending=0, method='first') "
   ]
  },
  {
   "cell_type": "code",
   "execution_count": 92,
   "metadata": {},
   "outputs": [
    {
     "data": {
      "text/html": [
       "<div>\n",
       "<style scoped>\n",
       "    .dataframe tbody tr th:only-of-type {\n",
       "        vertical-align: middle;\n",
       "    }\n",
       "\n",
       "    .dataframe tbody tr th {\n",
       "        vertical-align: top;\n",
       "    }\n",
       "\n",
       "    .dataframe thead th {\n",
       "        text-align: right;\n",
       "    }\n",
       "</style>\n",
       "<table border=\"1\" class=\"dataframe\">\n",
       "  <thead>\n",
       "    <tr style=\"text-align: right;\">\n",
       "      <th></th>\n",
       "      <th>productId</th>\n",
       "      <th>score</th>\n",
       "      <th>Rank</th>\n",
       "    </tr>\n",
       "  </thead>\n",
       "  <tbody>\n",
       "    <tr>\n",
       "      <th>38146</th>\n",
       "      <td>B0088CJT4U</td>\n",
       "      <td>204</td>\n",
       "      <td>1.0</td>\n",
       "    </tr>\n",
       "    <tr>\n",
       "      <th>24262</th>\n",
       "      <td>B003ES5ZUU</td>\n",
       "      <td>177</td>\n",
       "      <td>2.0</td>\n",
       "    </tr>\n",
       "    <tr>\n",
       "      <th>10820</th>\n",
       "      <td>B000N99BBC</td>\n",
       "      <td>163</td>\n",
       "      <td>3.0</td>\n",
       "    </tr>\n",
       "    <tr>\n",
       "      <th>37407</th>\n",
       "      <td>B007WTAJTO</td>\n",
       "      <td>156</td>\n",
       "      <td>4.0</td>\n",
       "    </tr>\n",
       "    <tr>\n",
       "      <th>37765</th>\n",
       "      <td>B00829TIEK</td>\n",
       "      <td>146</td>\n",
       "      <td>5.0</td>\n",
       "    </tr>\n",
       "  </tbody>\n",
       "</table>\n",
       "</div>"
      ],
      "text/plain": [
       "        productId  score  Rank\n",
       "38146  B0088CJT4U    204   1.0\n",
       "24262  B003ES5ZUU    177   2.0\n",
       "10820  B000N99BBC    163   3.0\n",
       "37407  B007WTAJTO    156   4.0\n",
       "37765  B00829TIEK    146   5.0"
      ]
     },
     "execution_count": 92,
     "metadata": {},
     "output_type": "execute_result"
    }
   ],
   "source": [
    "#Get the top 5 recommendations for user\n",
    "popularity_recommendations = data_sort.head(5) \n",
    "popularity_recommendations"
   ]
  },
  {
   "cell_type": "code",
   "execution_count": 122,
   "metadata": {},
   "outputs": [],
   "source": [
    "#make the popularity based recommender model\n",
    "#Since this is a popularity-based recommender model, recommendations remain the same for all users\n",
    "#We predict the products based on the popularity. It is not personalized to particular user\n",
    "def popularity_recommend_model(user_id):\n",
    "    user_recommendations=popularity_recommendations\n",
    "    user_recommendations['userId']=user_id\n",
    "    cols=user_recommendations.columns.tolist()\n",
    "    cols=cols[-1:]+cols[:-1]\n",
    "    user_recommendations=user_recommendations[cols]\n",
    "    return user_recommendations"
   ]
  },
  {
   "cell_type": "code",
   "execution_count": 123,
   "metadata": {
    "scrolled": true
   },
   "outputs": [
    {
     "name": "stderr",
     "output_type": "stream",
     "text": [
      "/Users/monabansal/.local/share/virtualenvs/AIML-osZh0qLx/lib/python3.7/site-packages/ipykernel_launcher.py:6: SettingWithCopyWarning: \n",
      "A value is trying to be set on a copy of a slice from a DataFrame.\n",
      "Try using .loc[row_indexer,col_indexer] = value instead\n",
      "\n",
      "See the caveats in the documentation: https://pandas.pydata.org/pandas-docs/stable/user_guide/indexing.html#returning-a-view-versus-a-copy\n",
      "  \n"
     ]
    },
    {
     "data": {
      "text/html": [
       "<div>\n",
       "<style scoped>\n",
       "    .dataframe tbody tr th:only-of-type {\n",
       "        vertical-align: middle;\n",
       "    }\n",
       "\n",
       "    .dataframe tbody tr th {\n",
       "        vertical-align: top;\n",
       "    }\n",
       "\n",
       "    .dataframe thead th {\n",
       "        text-align: right;\n",
       "    }\n",
       "</style>\n",
       "<table border=\"1\" class=\"dataframe\">\n",
       "  <thead>\n",
       "    <tr style=\"text-align: right;\">\n",
       "      <th></th>\n",
       "      <th>userId</th>\n",
       "      <th>productId</th>\n",
       "      <th>score</th>\n",
       "      <th>Rank</th>\n",
       "    </tr>\n",
       "  </thead>\n",
       "  <tbody>\n",
       "    <tr>\n",
       "      <th>38146</th>\n",
       "      <td>ARBKYIVNYWK3C</td>\n",
       "      <td>B0088CJT4U</td>\n",
       "      <td>204</td>\n",
       "      <td>1.0</td>\n",
       "    </tr>\n",
       "    <tr>\n",
       "      <th>24262</th>\n",
       "      <td>ARBKYIVNYWK3C</td>\n",
       "      <td>B003ES5ZUU</td>\n",
       "      <td>177</td>\n",
       "      <td>2.0</td>\n",
       "    </tr>\n",
       "    <tr>\n",
       "      <th>10820</th>\n",
       "      <td>ARBKYIVNYWK3C</td>\n",
       "      <td>B000N99BBC</td>\n",
       "      <td>163</td>\n",
       "      <td>3.0</td>\n",
       "    </tr>\n",
       "    <tr>\n",
       "      <th>37407</th>\n",
       "      <td>ARBKYIVNYWK3C</td>\n",
       "      <td>B007WTAJTO</td>\n",
       "      <td>156</td>\n",
       "      <td>4.0</td>\n",
       "    </tr>\n",
       "    <tr>\n",
       "      <th>37765</th>\n",
       "      <td>ARBKYIVNYWK3C</td>\n",
       "      <td>B00829TIEK</td>\n",
       "      <td>146</td>\n",
       "      <td>5.0</td>\n",
       "    </tr>\n",
       "  </tbody>\n",
       "</table>\n",
       "</div>"
      ],
      "text/plain": [
       "              userId   productId  score  Rank\n",
       "38146  ARBKYIVNYWK3C  B0088CJT4U    204   1.0\n",
       "24262  ARBKYIVNYWK3C  B003ES5ZUU    177   2.0\n",
       "10820  ARBKYIVNYWK3C  B000N99BBC    163   3.0\n",
       "37407  ARBKYIVNYWK3C  B007WTAJTO    156   4.0\n",
       "37765  ARBKYIVNYWK3C  B00829TIEK    146   5.0"
      ]
     },
     "execution_count": 123,
     "metadata": {},
     "output_type": "execute_result"
    }
   ],
   "source": [
    "#recommend top 5 new products to user 'ARBKYIVNYWK3C'\n",
    "userId='ARBKYIVNYWK3C'\n",
    "popularity_recommend_model(userId)"
   ]
  },
  {
   "cell_type": "code",
   "execution_count": 121,
   "metadata": {},
   "outputs": [
    {
     "data": {
      "text/html": [
       "<div>\n",
       "<style scoped>\n",
       "    .dataframe tbody tr th:only-of-type {\n",
       "        vertical-align: middle;\n",
       "    }\n",
       "\n",
       "    .dataframe tbody tr th {\n",
       "        vertical-align: top;\n",
       "    }\n",
       "\n",
       "    .dataframe thead th {\n",
       "        text-align: right;\n",
       "    }\n",
       "</style>\n",
       "<table border=\"1\" class=\"dataframe\">\n",
       "  <thead>\n",
       "    <tr style=\"text-align: right;\">\n",
       "      <th></th>\n",
       "      <th>userId</th>\n",
       "      <th>productId</th>\n",
       "      <th>Rating</th>\n",
       "      <th>timestamp</th>\n",
       "    </tr>\n",
       "  </thead>\n",
       "  <tbody>\n",
       "    <tr>\n",
       "      <th>67449</th>\n",
       "      <td>ARBKYIVNYWK3C</td>\n",
       "      <td>B00004Z5PY</td>\n",
       "      <td>5.0</td>\n",
       "      <td>1253923200</td>\n",
       "    </tr>\n",
       "    <tr>\n",
       "      <th>77424</th>\n",
       "      <td>ARBKYIVNYWK3C</td>\n",
       "      <td>B00005108H</td>\n",
       "      <td>5.0</td>\n",
       "      <td>1265587200</td>\n",
       "    </tr>\n",
       "    <tr>\n",
       "      <th>137786</th>\n",
       "      <td>ARBKYIVNYWK3C</td>\n",
       "      <td>B0000642RX</td>\n",
       "      <td>4.0</td>\n",
       "      <td>1267315200</td>\n",
       "    </tr>\n",
       "    <tr>\n",
       "      <th>153983</th>\n",
       "      <td>ARBKYIVNYWK3C</td>\n",
       "      <td>B000067RT6</td>\n",
       "      <td>5.0</td>\n",
       "      <td>1260835200</td>\n",
       "    </tr>\n",
       "    <tr>\n",
       "      <th>155895</th>\n",
       "      <td>ARBKYIVNYWK3C</td>\n",
       "      <td>B000067SG2</td>\n",
       "      <td>5.0</td>\n",
       "      <td>1253923200</td>\n",
       "    </tr>\n",
       "    <tr>\n",
       "      <th>...</th>\n",
       "      <td>...</td>\n",
       "      <td>...</td>\n",
       "      <td>...</td>\n",
       "      <td>...</td>\n",
       "    </tr>\n",
       "    <tr>\n",
       "      <th>7814464</th>\n",
       "      <td>ARBKYIVNYWK3C</td>\n",
       "      <td>B00JO6UGFU</td>\n",
       "      <td>5.0</td>\n",
       "      <td>1403308800</td>\n",
       "    </tr>\n",
       "    <tr>\n",
       "      <th>7814944</th>\n",
       "      <td>ARBKYIVNYWK3C</td>\n",
       "      <td>B00JPELAB0</td>\n",
       "      <td>4.0</td>\n",
       "      <td>1401753600</td>\n",
       "    </tr>\n",
       "    <tr>\n",
       "      <th>7816566</th>\n",
       "      <td>ARBKYIVNYWK3C</td>\n",
       "      <td>B00JVOTUGQ</td>\n",
       "      <td>5.0</td>\n",
       "      <td>1400025600</td>\n",
       "    </tr>\n",
       "    <tr>\n",
       "      <th>7819417</th>\n",
       "      <td>ARBKYIVNYWK3C</td>\n",
       "      <td>B00K6B7KJM</td>\n",
       "      <td>4.0</td>\n",
       "      <td>1404691200</td>\n",
       "    </tr>\n",
       "    <tr>\n",
       "      <th>7823031</th>\n",
       "      <td>ARBKYIVNYWK3C</td>\n",
       "      <td>B00KMRGB7C</td>\n",
       "      <td>4.0</td>\n",
       "      <td>1405296000</td>\n",
       "    </tr>\n",
       "  </tbody>\n",
       "</table>\n",
       "<p>296 rows × 4 columns</p>\n",
       "</div>"
      ],
      "text/plain": [
       "                userId   productId  Rating   timestamp\n",
       "67449    ARBKYIVNYWK3C  B00004Z5PY     5.0  1253923200\n",
       "77424    ARBKYIVNYWK3C  B00005108H     5.0  1265587200\n",
       "137786   ARBKYIVNYWK3C  B0000642RX     4.0  1267315200\n",
       "153983   ARBKYIVNYWK3C  B000067RT6     5.0  1260835200\n",
       "155895   ARBKYIVNYWK3C  B000067SG2     5.0  1253923200\n",
       "...                ...         ...     ...         ...\n",
       "7814464  ARBKYIVNYWK3C  B00JO6UGFU     5.0  1403308800\n",
       "7814944  ARBKYIVNYWK3C  B00JPELAB0     4.0  1401753600\n",
       "7816566  ARBKYIVNYWK3C  B00JVOTUGQ     5.0  1400025600\n",
       "7819417  ARBKYIVNYWK3C  B00K6B7KJM     4.0  1404691200\n",
       "7823031  ARBKYIVNYWK3C  B00KMRGB7C     4.0  1405296000\n",
       "\n",
       "[296 rows x 4 columns]"
      ]
     },
     "execution_count": 121,
     "metadata": {},
     "output_type": "execute_result"
    }
   ],
   "source": [
    "#here recommend the top products for user \"ARBKYIVNYWK3C\" based on the star rating/most popular items\n",
    "filterdf[(filterdf['userId']=='ARBKYIVNYWK3C')]"
   ]
  },
  {
   "cell_type": "markdown",
   "metadata": {},
   "source": [
    "# Collaborative Filtering model"
   ]
  },
  {
   "cell_type": "markdown",
   "metadata": {},
   "source": [
    "In Collaborative Filtering model ,For each user, recommender systems recommend items based on how similar users liked the item"
   ]
  },
  {
   "cell_type": "markdown",
   "metadata": {},
   "source": [
    "First we will use KNN model here as KNN is a perfect go-to model and also a very good baseline for recommender system development.\n",
    "KNN is a non-parametric, lazy learning method. It uses a database in which the data points are separated into several clusters to make inference for new samples."
   ]
  },
  {
   "cell_type": "markdown",
   "metadata": {},
   "source": [
    "# 1. Using KNNWithMeans model "
   ]
  },
  {
   "cell_type": "code",
   "execution_count": 156,
   "metadata": {},
   "outputs": [],
   "source": [
    "def CF_algo(trainset,testset,k,similarity_matrix,user_based):\n",
    "    algo=KNNWithMeans(k,sim_options={'name':similarity_matrix,'user_based':user_based})\n",
    "    algo.fit(trainset)\n",
    "    test_pred=algo.test(testset)\n",
    "    return test_pred   "
   ]
  },
  {
   "cell_type": "markdown",
   "metadata": {},
   "source": [
    "# 1.a: Pearson similarity"
   ]
  },
  {
   "cell_type": "code",
   "execution_count": 157,
   "metadata": {},
   "outputs": [
    {
     "name": "stdout",
     "output_type": "stream",
     "text": [
      "Computing the pearson similarity matrix...\n",
      "Done computing similarity matrix.\n"
     ]
    }
   ],
   "source": [
    "#User based CF\n",
    "test_pred=CF_algo(trainset,testset,40,'pearson',True)"
   ]
  },
  {
   "cell_type": "code",
   "execution_count": 158,
   "metadata": {
    "scrolled": true
   },
   "outputs": [
    {
     "name": "stdout",
     "output_type": "stream",
     "text": [
      "RMSE: 1.0466\n",
      "pearson similarity for user based CF is  1.0465818190715799\n"
     ]
    }
   ],
   "source": [
    "print(\"pearson similarity for user based CF is \", accuracy.rmse(test_pred))"
   ]
  },
  {
   "cell_type": "code",
   "execution_count": 159,
   "metadata": {},
   "outputs": [
    {
     "name": "stdout",
     "output_type": "stream",
     "text": [
      "Computing the pearson similarity matrix...\n",
      "Done computing similarity matrix.\n"
     ]
    }
   ],
   "source": [
    "#Item based CF\n",
    "test_pred=CF_algo(trainset,testset,40,'pearson',False)"
   ]
  },
  {
   "cell_type": "code",
   "execution_count": 160,
   "metadata": {
    "scrolled": true
   },
   "outputs": [
    {
     "name": "stdout",
     "output_type": "stream",
     "text": [
      "RMSE: 1.1337\n",
      "pearson similarity for Item based CF is  1.1336686658689947\n"
     ]
    }
   ],
   "source": [
    "print(\"pearson similarity for Item based CF is \", accuracy.rmse(test_pred))"
   ]
  },
  {
   "cell_type": "markdown",
   "metadata": {},
   "source": [
    "# 1.b): Cosine similarity"
   ]
  },
  {
   "cell_type": "code",
   "execution_count": 161,
   "metadata": {
    "scrolled": true
   },
   "outputs": [
    {
     "name": "stdout",
     "output_type": "stream",
     "text": [
      "Computing the cosine similarity matrix...\n",
      "Done computing similarity matrix.\n"
     ]
    }
   ],
   "source": [
    "#User based CF\n",
    "test_pred=CF_algo(trainset,testset,40,'cosine',True)"
   ]
  },
  {
   "cell_type": "code",
   "execution_count": 162,
   "metadata": {},
   "outputs": [
    {
     "name": "stdout",
     "output_type": "stream",
     "text": [
      "RMSE: 1.0566\n",
      "Cosine similarity for user based CF is  1.0566020706459396\n"
     ]
    }
   ],
   "source": [
    "print(\"Cosine similarity for user based CF is \", accuracy.rmse(test_pred))"
   ]
  },
  {
   "cell_type": "code",
   "execution_count": 163,
   "metadata": {},
   "outputs": [
    {
     "name": "stdout",
     "output_type": "stream",
     "text": [
      "Computing the cosine similarity matrix...\n",
      "Done computing similarity matrix.\n"
     ]
    }
   ],
   "source": [
    "test_pred=CF_algo(trainset,testset,40,'cosine',False)"
   ]
  },
  {
   "cell_type": "code",
   "execution_count": 164,
   "metadata": {
    "scrolled": true
   },
   "outputs": [
    {
     "name": "stdout",
     "output_type": "stream",
     "text": [
      "RMSE: 1.1256\n",
      "Cosine similarity for item based CF is  1.1255953245427903\n"
     ]
    }
   ],
   "source": [
    "print(\"Cosine similarity for item based CF is \", accuracy.rmse(test_pred))"
   ]
  },
  {
   "cell_type": "code",
   "execution_count": 165,
   "metadata": {},
   "outputs": [],
   "source": [
    "test_pred_df = pd.DataFrame(test_pred)"
   ]
  },
  {
   "cell_type": "code",
   "execution_count": 166,
   "metadata": {},
   "outputs": [
    {
     "data": {
      "text/html": [
       "<div>\n",
       "<style scoped>\n",
       "    .dataframe tbody tr th:only-of-type {\n",
       "        vertical-align: middle;\n",
       "    }\n",
       "\n",
       "    .dataframe tbody tr th {\n",
       "        vertical-align: top;\n",
       "    }\n",
       "\n",
       "    .dataframe thead th {\n",
       "        text-align: right;\n",
       "    }\n",
       "</style>\n",
       "<table border=\"1\" class=\"dataframe\">\n",
       "  <thead>\n",
       "    <tr style=\"text-align: right;\">\n",
       "      <th></th>\n",
       "      <th>uid</th>\n",
       "      <th>iid</th>\n",
       "      <th>r_ui</th>\n",
       "      <th>est</th>\n",
       "      <th>details</th>\n",
       "    </tr>\n",
       "  </thead>\n",
       "  <tbody>\n",
       "    <tr>\n",
       "      <th>0</th>\n",
       "      <td>A2L42QEWR77PKZ</td>\n",
       "      <td>B005LJQM3Y</td>\n",
       "      <td>5.0</td>\n",
       "      <td>5.000000</td>\n",
       "      <td>{'actual_k': 0, 'was_impossible': False}</td>\n",
       "    </tr>\n",
       "    <tr>\n",
       "      <th>1</th>\n",
       "      <td>A2OWR5G2OAQF7C</td>\n",
       "      <td>B004P15HD0</td>\n",
       "      <td>5.0</td>\n",
       "      <td>4.261533</td>\n",
       "      <td>{'was_impossible': True, 'reason': 'User and/o...</td>\n",
       "    </tr>\n",
       "    <tr>\n",
       "      <th>2</th>\n",
       "      <td>A3O4OIBCML0683</td>\n",
       "      <td>B004Z0S6RU</td>\n",
       "      <td>5.0</td>\n",
       "      <td>5.000000</td>\n",
       "      <td>{'actual_k': 2, 'was_impossible': False}</td>\n",
       "    </tr>\n",
       "    <tr>\n",
       "      <th>3</th>\n",
       "      <td>A2JAEZ0FMAMJVW</td>\n",
       "      <td>B0030LGY38</td>\n",
       "      <td>3.0</td>\n",
       "      <td>4.261533</td>\n",
       "      <td>{'was_impossible': True, 'reason': 'User and/o...</td>\n",
       "    </tr>\n",
       "    <tr>\n",
       "      <th>4</th>\n",
       "      <td>A6FIAB28IS79</td>\n",
       "      <td>B000FCSXBQ</td>\n",
       "      <td>4.0</td>\n",
       "      <td>4.261533</td>\n",
       "      <td>{'was_impossible': True, 'reason': 'User and/o...</td>\n",
       "    </tr>\n",
       "  </tbody>\n",
       "</table>\n",
       "</div>"
      ],
      "text/plain": [
       "              uid         iid  r_ui       est  \\\n",
       "0  A2L42QEWR77PKZ  B005LJQM3Y   5.0  5.000000   \n",
       "1  A2OWR5G2OAQF7C  B004P15HD0   5.0  4.261533   \n",
       "2  A3O4OIBCML0683  B004Z0S6RU   5.0  5.000000   \n",
       "3  A2JAEZ0FMAMJVW  B0030LGY38   3.0  4.261533   \n",
       "4    A6FIAB28IS79  B000FCSXBQ   4.0  4.261533   \n",
       "\n",
       "                                             details  \n",
       "0           {'actual_k': 0, 'was_impossible': False}  \n",
       "1  {'was_impossible': True, 'reason': 'User and/o...  \n",
       "2           {'actual_k': 2, 'was_impossible': False}  \n",
       "3  {'was_impossible': True, 'reason': 'User and/o...  \n",
       "4  {'was_impossible': True, 'reason': 'User and/o...  "
      ]
     },
     "execution_count": 166,
     "metadata": {},
     "output_type": "execute_result"
    }
   ],
   "source": [
    "test_pred_df.head()"
   ]
  },
  {
   "cell_type": "markdown",
   "metadata": {},
   "source": [
    "# Top 5 user resommendations"
   ]
  },
  {
   "cell_type": "code",
   "execution_count": 49,
   "metadata": {},
   "outputs": [],
   "source": [
    "testset_new = trainset.build_anti_testset()"
   ]
  },
  {
   "cell_type": "code",
   "execution_count": 50,
   "metadata": {},
   "outputs": [
    {
     "data": {
      "text/plain": [
       "54886549"
      ]
     },
     "execution_count": 50,
     "metadata": {},
     "output_type": "execute_result"
    }
   ],
   "source": [
    "len(testset_new)"
   ]
  },
  {
   "cell_type": "code",
   "execution_count": 54,
   "metadata": {
    "scrolled": true
   },
   "outputs": [
    {
     "data": {
      "text/plain": [
       "[('AKT8TGIT6VVZ5', 'B00DR0PDNE', 4.261532524935979),\n",
       " ('AKT8TGIT6VVZ5', 'B00104XCVO', 4.261532524935979),\n",
       " ('AKT8TGIT6VVZ5', 'B00077KMXG', 4.261532524935979),\n",
       " ('AKT8TGIT6VVZ5', 'B00005T3WF', 4.261532524935979),\n",
       " ('AKT8TGIT6VVZ5', 'B008ULPE70', 4.261532524935979)]"
      ]
     },
     "execution_count": 54,
     "metadata": {},
     "output_type": "execute_result"
    }
   ],
   "source": [
    "testset_new[0:5]"
   ]
  },
  {
   "cell_type": "markdown",
   "metadata": {},
   "source": [
    "# user-user collaborative filtering is ‘K nearest neighbours with means"
   ]
  },
  {
   "cell_type": "code",
   "execution_count": 55,
   "metadata": {},
   "outputs": [
    {
     "name": "stdout",
     "output_type": "stream",
     "text": [
      "Computing the pearson similarity matrix...\n",
      "Done computing similarity matrix.\n"
     ]
    }
   ],
   "source": [
    "#Using pearson  similarity  for user based CF\n",
    "algo = KNNWithMeans(40,sim_options={'name':'pearson','user_based':True})\n",
    "algo.fit(trainset)\n",
    "#Processing will take time if we select the rows, hence selecting 100,000 rows\n",
    "predictions = algo.test(testset_new[0:100000])"
   ]
  },
  {
   "cell_type": "code",
   "execution_count": 56,
   "metadata": {
    "scrolled": true
   },
   "outputs": [
    {
     "data": {
      "text/plain": [
       "[Prediction(uid='AKT8TGIT6VVZ5', iid='B00DR0PDNE', r_ui=4.261532524935979, est=4.840579710144928, details={'actual_k': 0, 'was_impossible': False}),\n",
       " Prediction(uid='AKT8TGIT6VVZ5', iid='B00104XCVO', r_ui=4.261532524935979, est=4.840579710144928, details={'actual_k': 0, 'was_impossible': False}),\n",
       " Prediction(uid='AKT8TGIT6VVZ5', iid='B00077KMXG', r_ui=4.261532524935979, est=4.840579710144928, details={'actual_k': 0, 'was_impossible': False}),\n",
       " Prediction(uid='AKT8TGIT6VVZ5', iid='B00005T3WF', r_ui=4.261532524935979, est=4.840579710144928, details={'actual_k': 0, 'was_impossible': False}),\n",
       " Prediction(uid='AKT8TGIT6VVZ5', iid='B008ULPE70', r_ui=4.261532524935979, est=4.840579710144928, details={'actual_k': 0, 'was_impossible': False})]"
      ]
     },
     "execution_count": 56,
     "metadata": {},
     "output_type": "execute_result"
    }
   ],
   "source": [
    "predictions[0:5]"
   ]
  },
  {
   "cell_type": "markdown",
   "metadata": {},
   "source": [
    "Here \"KNNWithMeans()\" function will display the 40 closest neighbours to a user which have rated the products in a very similar way as the user being considered. The algorithm identifies these neighbours using ‘pearson_baseline’.\n",
    "Moreover this model can also predict the rating that a user might give to a movie that he or she has not watched yet"
   ]
  },
  {
   "cell_type": "code",
   "execution_count": 57,
   "metadata": {},
   "outputs": [],
   "source": [
    "predictions_df = pd.DataFrame([[x.uid,x.iid,x.est] for x in predictions])"
   ]
  },
  {
   "cell_type": "code",
   "execution_count": 58,
   "metadata": {},
   "outputs": [],
   "source": [
    "#Add column names\n",
    "predictions_df.columns=['userID','productId','est_rating']"
   ]
  },
  {
   "cell_type": "code",
   "execution_count": 59,
   "metadata": {},
   "outputs": [
    {
     "data": {
      "text/html": [
       "<div>\n",
       "<style scoped>\n",
       "    .dataframe tbody tr th:only-of-type {\n",
       "        vertical-align: middle;\n",
       "    }\n",
       "\n",
       "    .dataframe tbody tr th {\n",
       "        vertical-align: top;\n",
       "    }\n",
       "\n",
       "    .dataframe thead th {\n",
       "        text-align: right;\n",
       "    }\n",
       "</style>\n",
       "<table border=\"1\" class=\"dataframe\">\n",
       "  <thead>\n",
       "    <tr style=\"text-align: right;\">\n",
       "      <th></th>\n",
       "      <th>userID</th>\n",
       "      <th>productId</th>\n",
       "      <th>est_rating</th>\n",
       "    </tr>\n",
       "  </thead>\n",
       "  <tbody>\n",
       "    <tr>\n",
       "      <th>0</th>\n",
       "      <td>AKT8TGIT6VVZ5</td>\n",
       "      <td>B00DR0PDNE</td>\n",
       "      <td>4.84058</td>\n",
       "    </tr>\n",
       "    <tr>\n",
       "      <th>1</th>\n",
       "      <td>AKT8TGIT6VVZ5</td>\n",
       "      <td>B00104XCVO</td>\n",
       "      <td>4.84058</td>\n",
       "    </tr>\n",
       "    <tr>\n",
       "      <th>2</th>\n",
       "      <td>AKT8TGIT6VVZ5</td>\n",
       "      <td>B00077KMXG</td>\n",
       "      <td>4.84058</td>\n",
       "    </tr>\n",
       "    <tr>\n",
       "      <th>3</th>\n",
       "      <td>AKT8TGIT6VVZ5</td>\n",
       "      <td>B00005T3WF</td>\n",
       "      <td>4.84058</td>\n",
       "    </tr>\n",
       "    <tr>\n",
       "      <th>4</th>\n",
       "      <td>AKT8TGIT6VVZ5</td>\n",
       "      <td>B008ULPE70</td>\n",
       "      <td>4.84058</td>\n",
       "    </tr>\n",
       "  </tbody>\n",
       "</table>\n",
       "</div>"
      ],
      "text/plain": [
       "          userID   productId  est_rating\n",
       "0  AKT8TGIT6VVZ5  B00DR0PDNE     4.84058\n",
       "1  AKT8TGIT6VVZ5  B00104XCVO     4.84058\n",
       "2  AKT8TGIT6VVZ5  B00077KMXG     4.84058\n",
       "3  AKT8TGIT6VVZ5  B00005T3WF     4.84058\n",
       "4  AKT8TGIT6VVZ5  B008ULPE70     4.84058"
      ]
     },
     "execution_count": 59,
     "metadata": {},
     "output_type": "execute_result"
    }
   ],
   "source": [
    "predictions_df.head()"
   ]
  },
  {
   "cell_type": "code",
   "execution_count": 60,
   "metadata": {},
   "outputs": [],
   "source": [
    "predictions_df.sort_values(by=['userID','est_rating'],ascending=False,inplace=True)"
   ]
  },
  {
   "cell_type": "code",
   "execution_count": 62,
   "metadata": {
    "scrolled": true
   },
   "outputs": [
    {
     "data": {
      "text/html": [
       "<div>\n",
       "<style scoped>\n",
       "    .dataframe tbody tr th:only-of-type {\n",
       "        vertical-align: middle;\n",
       "    }\n",
       "\n",
       "    .dataframe tbody tr th {\n",
       "        vertical-align: top;\n",
       "    }\n",
       "\n",
       "    .dataframe thead th {\n",
       "        text-align: right;\n",
       "    }\n",
       "</style>\n",
       "<table border=\"1\" class=\"dataframe\">\n",
       "  <thead>\n",
       "    <tr style=\"text-align: right;\">\n",
       "      <th></th>\n",
       "      <th>userID</th>\n",
       "      <th>productId</th>\n",
       "      <th>est_rating</th>\n",
       "    </tr>\n",
       "  </thead>\n",
       "  <tbody>\n",
       "    <tr>\n",
       "      <th>205</th>\n",
       "      <td>AKT8TGIT6VVZ5</td>\n",
       "      <td>B0001EKGG8</td>\n",
       "      <td>5.0</td>\n",
       "    </tr>\n",
       "    <tr>\n",
       "      <th>417</th>\n",
       "      <td>AKT8TGIT6VVZ5</td>\n",
       "      <td>B00DUN2PBQ</td>\n",
       "      <td>5.0</td>\n",
       "    </tr>\n",
       "    <tr>\n",
       "      <th>1587</th>\n",
       "      <td>AKT8TGIT6VVZ5</td>\n",
       "      <td>B00BT7RAPG</td>\n",
       "      <td>5.0</td>\n",
       "    </tr>\n",
       "    <tr>\n",
       "      <th>2032</th>\n",
       "      <td>AKT8TGIT6VVZ5</td>\n",
       "      <td>B0030MITDK</td>\n",
       "      <td>5.0</td>\n",
       "    </tr>\n",
       "    <tr>\n",
       "      <th>2167</th>\n",
       "      <td>AKT8TGIT6VVZ5</td>\n",
       "      <td>B007BJHETS</td>\n",
       "      <td>5.0</td>\n",
       "    </tr>\n",
       "  </tbody>\n",
       "</table>\n",
       "</div>"
      ],
      "text/plain": [
       "             userID   productId  est_rating\n",
       "205   AKT8TGIT6VVZ5  B0001EKGG8         5.0\n",
       "417   AKT8TGIT6VVZ5  B00DUN2PBQ         5.0\n",
       "1587  AKT8TGIT6VVZ5  B00BT7RAPG         5.0\n",
       "2032  AKT8TGIT6VVZ5  B0030MITDK         5.0\n",
       "2167  AKT8TGIT6VVZ5  B007BJHETS         5.0"
      ]
     },
     "execution_count": 62,
     "metadata": {},
     "output_type": "execute_result"
    }
   ],
   "source": [
    "#TOP 5 recommendation\n",
    "predictions_df.head(5)"
   ]
  },
  {
   "cell_type": "code",
   "execution_count": null,
   "metadata": {},
   "outputs": [],
   "source": [
    "#Above are the top 5 recommended products based on the highest rating for each user"
   ]
  },
  {
   "cell_type": "code",
   "execution_count": 64,
   "metadata": {},
   "outputs": [
    {
     "data": {
      "text/plain": [
       "3"
      ]
     },
     "execution_count": 64,
     "metadata": {},
     "output_type": "execute_result"
    }
   ],
   "source": [
    "predictions_df['userID'].unique().shape[0]  #Unique users"
   ]
  },
  {
   "cell_type": "markdown",
   "metadata": {},
   "source": [
    "# Recommend top 5 products to user"
   ]
  },
  {
   "cell_type": "code",
   "execution_count": 66,
   "metadata": {},
   "outputs": [],
   "source": [
    "top_5_products=predictions_df.groupby('userID').head(5).reset_index(drop=True)"
   ]
  },
  {
   "cell_type": "code",
   "execution_count": 67,
   "metadata": {},
   "outputs": [
    {
     "data": {
      "text/html": [
       "<div>\n",
       "<style scoped>\n",
       "    .dataframe tbody tr th:only-of-type {\n",
       "        vertical-align: middle;\n",
       "    }\n",
       "\n",
       "    .dataframe tbody tr th {\n",
       "        vertical-align: top;\n",
       "    }\n",
       "\n",
       "    .dataframe thead th {\n",
       "        text-align: right;\n",
       "    }\n",
       "</style>\n",
       "<table border=\"1\" class=\"dataframe\">\n",
       "  <thead>\n",
       "    <tr style=\"text-align: right;\">\n",
       "      <th></th>\n",
       "      <th>userID</th>\n",
       "      <th>productId</th>\n",
       "      <th>est_rating</th>\n",
       "    </tr>\n",
       "  </thead>\n",
       "  <tbody>\n",
       "    <tr>\n",
       "      <th>0</th>\n",
       "      <td>AKT8TGIT6VVZ5</td>\n",
       "      <td>B0001EKGG8</td>\n",
       "      <td>5.000000</td>\n",
       "    </tr>\n",
       "    <tr>\n",
       "      <th>1</th>\n",
       "      <td>AKT8TGIT6VVZ5</td>\n",
       "      <td>B00DUN2PBQ</td>\n",
       "      <td>5.000000</td>\n",
       "    </tr>\n",
       "    <tr>\n",
       "      <th>2</th>\n",
       "      <td>AKT8TGIT6VVZ5</td>\n",
       "      <td>B00BT7RAPG</td>\n",
       "      <td>5.000000</td>\n",
       "    </tr>\n",
       "    <tr>\n",
       "      <th>3</th>\n",
       "      <td>AKT8TGIT6VVZ5</td>\n",
       "      <td>B0030MITDK</td>\n",
       "      <td>5.000000</td>\n",
       "    </tr>\n",
       "    <tr>\n",
       "      <th>4</th>\n",
       "      <td>AKT8TGIT6VVZ5</td>\n",
       "      <td>B007BJHETS</td>\n",
       "      <td>5.000000</td>\n",
       "    </tr>\n",
       "    <tr>\n",
       "      <th>5</th>\n",
       "      <td>A3SOJO7Z7R9WIA</td>\n",
       "      <td>B000VDF5RO</td>\n",
       "      <td>4.121882</td>\n",
       "    </tr>\n",
       "    <tr>\n",
       "      <th>6</th>\n",
       "      <td>A3SOJO7Z7R9WIA</td>\n",
       "      <td>B00006I5J7</td>\n",
       "      <td>4.121882</td>\n",
       "    </tr>\n",
       "    <tr>\n",
       "      <th>7</th>\n",
       "      <td>A3SOJO7Z7R9WIA</td>\n",
       "      <td>B0094AS7VG</td>\n",
       "      <td>4.121882</td>\n",
       "    </tr>\n",
       "    <tr>\n",
       "      <th>8</th>\n",
       "      <td>A3SOJO7Z7R9WIA</td>\n",
       "      <td>B000FU774C</td>\n",
       "      <td>4.121882</td>\n",
       "    </tr>\n",
       "    <tr>\n",
       "      <th>9</th>\n",
       "      <td>A3SOJO7Z7R9WIA</td>\n",
       "      <td>B00D9MCVOY</td>\n",
       "      <td>4.121882</td>\n",
       "    </tr>\n",
       "    <tr>\n",
       "      <th>10</th>\n",
       "      <td>A3OZA8HNJM26DC</td>\n",
       "      <td>B003MTTJOY</td>\n",
       "      <td>5.000000</td>\n",
       "    </tr>\n",
       "    <tr>\n",
       "      <th>11</th>\n",
       "      <td>A3OZA8HNJM26DC</td>\n",
       "      <td>B00DIFIM36</td>\n",
       "      <td>5.000000</td>\n",
       "    </tr>\n",
       "    <tr>\n",
       "      <th>12</th>\n",
       "      <td>A3OZA8HNJM26DC</td>\n",
       "      <td>B00008VSL4</td>\n",
       "      <td>5.000000</td>\n",
       "    </tr>\n",
       "    <tr>\n",
       "      <th>13</th>\n",
       "      <td>A3OZA8HNJM26DC</td>\n",
       "      <td>B006JTUM72</td>\n",
       "      <td>5.000000</td>\n",
       "    </tr>\n",
       "    <tr>\n",
       "      <th>14</th>\n",
       "      <td>A3OZA8HNJM26DC</td>\n",
       "      <td>B007JOO4YS</td>\n",
       "      <td>4.385491</td>\n",
       "    </tr>\n",
       "  </tbody>\n",
       "</table>\n",
       "</div>"
      ],
      "text/plain": [
       "            userID   productId  est_rating\n",
       "0    AKT8TGIT6VVZ5  B0001EKGG8    5.000000\n",
       "1    AKT8TGIT6VVZ5  B00DUN2PBQ    5.000000\n",
       "2    AKT8TGIT6VVZ5  B00BT7RAPG    5.000000\n",
       "3    AKT8TGIT6VVZ5  B0030MITDK    5.000000\n",
       "4    AKT8TGIT6VVZ5  B007BJHETS    5.000000\n",
       "5   A3SOJO7Z7R9WIA  B000VDF5RO    4.121882\n",
       "6   A3SOJO7Z7R9WIA  B00006I5J7    4.121882\n",
       "7   A3SOJO7Z7R9WIA  B0094AS7VG    4.121882\n",
       "8   A3SOJO7Z7R9WIA  B000FU774C    4.121882\n",
       "9   A3SOJO7Z7R9WIA  B00D9MCVOY    4.121882\n",
       "10  A3OZA8HNJM26DC  B003MTTJOY    5.000000\n",
       "11  A3OZA8HNJM26DC  B00DIFIM36    5.000000\n",
       "12  A3OZA8HNJM26DC  B00008VSL4    5.000000\n",
       "13  A3OZA8HNJM26DC  B006JTUM72    5.000000\n",
       "14  A3OZA8HNJM26DC  B007JOO4YS    4.385491"
      ]
     },
     "execution_count": 67,
     "metadata": {},
     "output_type": "execute_result"
    }
   ],
   "source": [
    "top_5_products\n",
    "#each user receives personalized product recommendations based on how they rated the products they have purchased/used earlier."
   ]
  },
  {
   "cell_type": "markdown",
   "metadata": {},
   "source": [
    "# Tweak parameters on KNN using GridSearchCV"
   ]
  },
  {
   "cell_type": "markdown",
   "metadata": {},
   "source": [
    "Surprise provides a GridSearchCV class analogous to GridSearchCV.\n",
    "With a dict of all parameters, GridSearchCV tries all the combinations of parameters and reports the best parameters for any accuracy measure"
   ]
  },
  {
   "cell_type": "code",
   "execution_count": 68,
   "metadata": {},
   "outputs": [],
   "source": [
    "from surprise.model_selection import GridSearchCV"
   ]
  },
  {
   "cell_type": "code",
   "execution_count": 69,
   "metadata": {},
   "outputs": [],
   "source": [
    "data = Dataset.load_from_df(filterdf.iloc[:10000,:][['userId', 'productId', 'Rating']], reader)"
   ]
  },
  {
   "cell_type": "code",
   "execution_count": 71,
   "metadata": {},
   "outputs": [
    {
     "name": "stdout",
     "output_type": "stream",
     "text": [
      "Computing the msd similarity matrix...\n",
      "Done computing similarity matrix.\n"
     ]
    }
   ],
   "source": [
    "param_grid={'k':[15,20,25,30]}\n",
    "knnmeans_gs=GridSearchCV(KNNWithMeans, param_grid, measures=['rmse', 'mae'], cv=5, n_jobs=5,refit=True)\n",
    "knnmeans_gs.fit(data)"
   ]
  },
  {
   "cell_type": "code",
   "execution_count": 72,
   "metadata": {},
   "outputs": [],
   "source": [
    "x = [15, 20, 25, 30]\n",
    "y1 = knnmeans_gs.cv_results['mean_test_rmse']\n",
    "y2 = knnmeans_gs.cv_results['mean_test_mae']"
   ]
  },
  {
   "cell_type": "code",
   "execution_count": 73,
   "metadata": {},
   "outputs": [
    {
     "data": {
      "image/png": "[encoded data removed]",
      "text/plain": [
       "<Figure size 1296x360 with 2 Axes>"
      ]
     },
     "metadata": {
      "needs_background": "light"
     },
     "output_type": "display_data"
    }
   ],
   "source": [
    "plt.figure(figsize=(18,5))\n",
    "\n",
    "plt.subplot(1,2,1)\n",
    "plt.title('K Neighbors vs RMSE', loc='center', fontsize=15)\n",
    "plt.plot(x,y1,label=\"KNNwithmeans\",color='darkred',marker='o')\n",
    "plt.xlabel('K Neighbor', fontsize=15)\n",
    "plt.ylabel('RMSE Value', fontsize=15)\n",
    "plt.legend()\n",
    "plt.grid(ls='dotted')\n",
    "\n",
    "plt.subplot(1, 2, 2)\n",
    "plt.title('K Neighbors vs MAE', loc='center', fontsize=15)\n",
    "plt.plot(x, y2, label='KNNWithMeans', color='indianred', marker='o')\n",
    "plt.xlabel('K Neighbor', fontsize=15)\n",
    "plt.ylabel('MAE Value', fontsize=15)\n",
    "plt.legend()\n",
    "plt.grid(ls='dotted')\n",
    "\n",
    "plt.show()"
   ]
  },
  {
   "cell_type": "code",
   "execution_count": 167,
   "metadata": {},
   "outputs": [
    {
     "data": {
      "text/plain": [
       "{'rmse': 1.1583375328382972, 'mae': 0.8371663781197052}"
      ]
     },
     "execution_count": 167,
     "metadata": {},
     "output_type": "execute_result"
    }
   ],
   "source": [
    "knnmeans_gs.best_score"
   ]
  },
  {
   "cell_type": "code",
   "execution_count": 74,
   "metadata": {
    "scrolled": false
   },
   "outputs": [
    {
     "data": {
      "text/plain": [
       "{'rmse': {'k': 15}, 'mae': {'k': 15}}"
      ]
     },
     "execution_count": 74,
     "metadata": {},
     "output_type": "execute_result"
    }
   ],
   "source": [
    "# get best parameters\n",
    "knnmeans_gs.best_params"
   ]
  },
  {
   "cell_type": "code",
   "execution_count": 172,
   "metadata": {},
   "outputs": [],
   "source": [
    "knn_test_pred = knnmeans_gs.test(testset)"
   ]
  },
  {
   "cell_type": "code",
   "execution_count": 173,
   "metadata": {
    "scrolled": true
   },
   "outputs": [
    {
     "name": "stdout",
     "output_type": "stream",
     "text": [
      "RMSE: 1.0151\n"
     ]
    },
    {
     "data": {
      "text/plain": [
       "1.0150918334711476"
      ]
     },
     "execution_count": 173,
     "metadata": {},
     "output_type": "execute_result"
    }
   ],
   "source": [
    "accuracy.rmse(knn_test_pred)"
   ]
  },
  {
   "cell_type": "code",
   "execution_count": 175,
   "metadata": {},
   "outputs": [],
   "source": [
    "#RMSE after gridsearchCV\n",
    "#RMSE coming on the predicted test data using KNNMeans alogorithm is 1.0151 which is quite good "
   ]
  },
  {
   "cell_type": "markdown",
   "metadata": {},
   "source": [
    "# Model based Collaborative Filtering"
   ]
  },
  {
   "cell_type": "markdown",
   "metadata": {},
   "source": [
    "# SVD Based Recommendation"
   ]
  },
  {
   "cell_type": "code",
   "execution_count": 124,
   "metadata": {},
   "outputs": [],
   "source": [
    "from surprise import SVD\n",
    "from surprise import accuracy"
   ]
  },
  {
   "cell_type": "code",
   "execution_count": 125,
   "metadata": {},
   "outputs": [],
   "source": [
    "svd_model = SVD(n_factors=40,biased=False) # Centered approach"
   ]
  },
  {
   "cell_type": "code",
   "execution_count": 126,
   "metadata": {},
   "outputs": [
    {
     "data": {
      "text/plain": [
       "<surprise.prediction_algorithms.matrix_factorization.SVD at 0x3f1823050>"
      ]
     },
     "execution_count": 126,
     "metadata": {},
     "output_type": "execute_result"
    }
   ],
   "source": [
    "svd_model.fit(trainset)"
   ]
  },
  {
   "cell_type": "code",
   "execution_count": 127,
   "metadata": {},
   "outputs": [],
   "source": [
    "svd_test_pred = svd_model.test(testset)"
   ]
  },
  {
   "cell_type": "code",
   "execution_count": 128,
   "metadata": {},
   "outputs": [],
   "source": [
    "svd_test_pred_df = pd.DataFrame([[x.uid,x.iid,x.est] for x in svd_test_pred])"
   ]
  },
  {
   "cell_type": "code",
   "execution_count": 129,
   "metadata": {},
   "outputs": [],
   "source": [
    "svd_test_pred_df.columns=['userID','productID','est_ratings']"
   ]
  },
  {
   "cell_type": "code",
   "execution_count": 130,
   "metadata": {},
   "outputs": [
    {
     "data": {
      "text/html": [
       "<div>\n",
       "<style scoped>\n",
       "    .dataframe tbody tr th:only-of-type {\n",
       "        vertical-align: middle;\n",
       "    }\n",
       "\n",
       "    .dataframe tbody tr th {\n",
       "        vertical-align: top;\n",
       "    }\n",
       "\n",
       "    .dataframe thead th {\n",
       "        text-align: right;\n",
       "    }\n",
       "</style>\n",
       "<table border=\"1\" class=\"dataframe\">\n",
       "  <thead>\n",
       "    <tr style=\"text-align: right;\">\n",
       "      <th></th>\n",
       "      <th>userID</th>\n",
       "      <th>productID</th>\n",
       "      <th>est_ratings</th>\n",
       "    </tr>\n",
       "  </thead>\n",
       "  <tbody>\n",
       "    <tr>\n",
       "      <th>0</th>\n",
       "      <td>A2L42QEWR77PKZ</td>\n",
       "      <td>B005LJQM3Y</td>\n",
       "      <td>1.669516</td>\n",
       "    </tr>\n",
       "    <tr>\n",
       "      <th>1</th>\n",
       "      <td>A2OWR5G2OAQF7C</td>\n",
       "      <td>B004P15HD0</td>\n",
       "      <td>4.261533</td>\n",
       "    </tr>\n",
       "    <tr>\n",
       "      <th>2</th>\n",
       "      <td>A3O4OIBCML0683</td>\n",
       "      <td>B004Z0S6RU</td>\n",
       "      <td>1.694498</td>\n",
       "    </tr>\n",
       "    <tr>\n",
       "      <th>3</th>\n",
       "      <td>A2JAEZ0FMAMJVW</td>\n",
       "      <td>B0030LGY38</td>\n",
       "      <td>4.261533</td>\n",
       "    </tr>\n",
       "    <tr>\n",
       "      <th>4</th>\n",
       "      <td>A6FIAB28IS79</td>\n",
       "      <td>B000FCSXBQ</td>\n",
       "      <td>4.261533</td>\n",
       "    </tr>\n",
       "  </tbody>\n",
       "</table>\n",
       "</div>"
      ],
      "text/plain": [
       "           userID   productID  est_ratings\n",
       "0  A2L42QEWR77PKZ  B005LJQM3Y     1.669516\n",
       "1  A2OWR5G2OAQF7C  B004P15HD0     4.261533\n",
       "2  A3O4OIBCML0683  B004Z0S6RU     1.694498\n",
       "3  A2JAEZ0FMAMJVW  B0030LGY38     4.261533\n",
       "4    A6FIAB28IS79  B000FCSXBQ     4.261533"
      ]
     },
     "execution_count": 130,
     "metadata": {},
     "output_type": "execute_result"
    }
   ],
   "source": [
    "svd_test_pred_df.head()"
   ]
  },
  {
   "cell_type": "code",
   "execution_count": 131,
   "metadata": {},
   "outputs": [],
   "source": [
    "svd_test_pred_df.sort_values(by=['userID','est_ratings'],ascending=False,inplace=True)"
   ]
  },
  {
   "cell_type": "code",
   "execution_count": 132,
   "metadata": {},
   "outputs": [
    {
     "data": {
      "text/plain": [
       "1466"
      ]
     },
     "execution_count": 132,
     "metadata": {},
     "output_type": "execute_result"
    }
   ],
   "source": [
    "#unique users\n",
    "svd_test_pred_df['userID'].unique().shape[0]"
   ]
  },
  {
   "cell_type": "code",
   "execution_count": 133,
   "metadata": {},
   "outputs": [],
   "source": [
    "#top records for user based CF\n",
    "svd_top_recos = svd_test_pred_df.groupby('userID').head(5).reset_index(drop=True)"
   ]
  },
  {
   "cell_type": "code",
   "execution_count": 134,
   "metadata": {},
   "outputs": [
    {
     "data": {
      "text/html": [
       "<div>\n",
       "<style scoped>\n",
       "    .dataframe tbody tr th:only-of-type {\n",
       "        vertical-align: middle;\n",
       "    }\n",
       "\n",
       "    .dataframe tbody tr th {\n",
       "        vertical-align: top;\n",
       "    }\n",
       "\n",
       "    .dataframe thead th {\n",
       "        text-align: right;\n",
       "    }\n",
       "</style>\n",
       "<table border=\"1\" class=\"dataframe\">\n",
       "  <thead>\n",
       "    <tr style=\"text-align: right;\">\n",
       "      <th></th>\n",
       "      <th>userID</th>\n",
       "      <th>productID</th>\n",
       "      <th>est_ratings</th>\n",
       "    </tr>\n",
       "  </thead>\n",
       "  <tbody>\n",
       "    <tr>\n",
       "      <th>0</th>\n",
       "      <td>AZOK5STV85FBJ</td>\n",
       "      <td>B00JG5VV9O</td>\n",
       "      <td>4.261533</td>\n",
       "    </tr>\n",
       "    <tr>\n",
       "      <th>1</th>\n",
       "      <td>AZOK5STV85FBJ</td>\n",
       "      <td>B00A85ANCW</td>\n",
       "      <td>4.261533</td>\n",
       "    </tr>\n",
       "    <tr>\n",
       "      <th>2</th>\n",
       "      <td>AZOK5STV85FBJ</td>\n",
       "      <td>B000L1AUH6</td>\n",
       "      <td>4.261533</td>\n",
       "    </tr>\n",
       "    <tr>\n",
       "      <th>3</th>\n",
       "      <td>AZOK5STV85FBJ</td>\n",
       "      <td>B000UGT5GO</td>\n",
       "      <td>4.261533</td>\n",
       "    </tr>\n",
       "    <tr>\n",
       "      <th>4</th>\n",
       "      <td>AZOK5STV85FBJ</td>\n",
       "      <td>B0007WRQ4Y</td>\n",
       "      <td>4.261533</td>\n",
       "    </tr>\n",
       "    <tr>\n",
       "      <th>5</th>\n",
       "      <td>AZNUHQSHZHSUE</td>\n",
       "      <td>B0002ZG62E</td>\n",
       "      <td>4.261533</td>\n",
       "    </tr>\n",
       "    <tr>\n",
       "      <th>6</th>\n",
       "      <td>AZNUHQSHZHSUE</td>\n",
       "      <td>B000FJEYZI</td>\n",
       "      <td>4.261533</td>\n",
       "    </tr>\n",
       "    <tr>\n",
       "      <th>7</th>\n",
       "      <td>AZNUHQSHZHSUE</td>\n",
       "      <td>B001DFZ5J2</td>\n",
       "      <td>4.261533</td>\n",
       "    </tr>\n",
       "    <tr>\n",
       "      <th>8</th>\n",
       "      <td>AZNUHQSHZHSUE</td>\n",
       "      <td>B001L4QFM6</td>\n",
       "      <td>4.261533</td>\n",
       "    </tr>\n",
       "    <tr>\n",
       "      <th>9</th>\n",
       "      <td>AZNUHQSHZHSUE</td>\n",
       "      <td>B0013HH1HY</td>\n",
       "      <td>4.261533</td>\n",
       "    </tr>\n",
       "  </tbody>\n",
       "</table>\n",
       "</div>"
      ],
      "text/plain": [
       "          userID   productID  est_ratings\n",
       "0  AZOK5STV85FBJ  B00JG5VV9O     4.261533\n",
       "1  AZOK5STV85FBJ  B00A85ANCW     4.261533\n",
       "2  AZOK5STV85FBJ  B000L1AUH6     4.261533\n",
       "3  AZOK5STV85FBJ  B000UGT5GO     4.261533\n",
       "4  AZOK5STV85FBJ  B0007WRQ4Y     4.261533\n",
       "5  AZNUHQSHZHSUE  B0002ZG62E     4.261533\n",
       "6  AZNUHQSHZHSUE  B000FJEYZI     4.261533\n",
       "7  AZNUHQSHZHSUE  B001DFZ5J2     4.261533\n",
       "8  AZNUHQSHZHSUE  B001L4QFM6     4.261533\n",
       "9  AZNUHQSHZHSUE  B0013HH1HY     4.261533"
      ]
     },
     "execution_count": 134,
     "metadata": {},
     "output_type": "execute_result"
    }
   ],
   "source": [
    "svd_top_recos.head(10)"
   ]
  },
  {
   "cell_type": "code",
   "execution_count": 135,
   "metadata": {},
   "outputs": [
    {
     "name": "stdout",
     "output_type": "stream",
     "text": [
      "RMSE: 2.0025\n"
     ]
    },
    {
     "data": {
      "text/plain": [
       "2.002479735172684"
      ]
     },
     "execution_count": 135,
     "metadata": {},
     "output_type": "execute_result"
    }
   ],
   "source": [
    "accuracy.rmse(svd_test_pred)"
   ]
  },
  {
   "cell_type": "code",
   "execution_count": 174,
   "metadata": {},
   "outputs": [],
   "source": [
    "#RMSE is coming 2.0025 with the SVD model let's see if we can further fine tune this model to improve on the accuracy and test data prediction"
   ]
  },
  {
   "cell_type": "markdown",
   "metadata": {},
   "source": [
    "# Recreating the SVD predictions using Matrix multiplcation of User and Item factors"
   ]
  },
  {
   "cell_type": "code",
   "execution_count": 137,
   "metadata": {},
   "outputs": [
    {
     "data": {
      "text/plain": [
       "(1466, 40)"
      ]
     },
     "execution_count": 137,
     "metadata": {},
     "output_type": "execute_result"
    }
   ],
   "source": [
    "user_factors=svd_model.pu\n",
    "user_factors.shape"
   ]
  },
  {
   "cell_type": "code",
   "execution_count": 138,
   "metadata": {},
   "outputs": [
    {
     "data": {
      "text/plain": [
       "(37498, 40)"
      ]
     },
     "execution_count": 138,
     "metadata": {},
     "output_type": "execute_result"
    }
   ],
   "source": [
    "item_factors=svd_model.qi\n",
    "item_factors.shape"
   ]
  },
  {
   "cell_type": "code",
   "execution_count": 139,
   "metadata": {},
   "outputs": [],
   "source": [
    "#matrix multiplication of user factors and item factors\n",
    "pred=np.dot(user_factors,np.transpose(item_factors))"
   ]
  },
  {
   "cell_type": "code",
   "execution_count": 140,
   "metadata": {},
   "outputs": [
    {
     "data": {
      "text/plain": [
       "array([ 0.39972729,  3.72851145,  4.1696805 ,  0.86309799, -0.42206981])"
      ]
     },
     "execution_count": 140,
     "metadata": {},
     "output_type": "execute_result"
    }
   ],
   "source": [
    "pred[203,0:5]"
   ]
  },
  {
   "cell_type": "code",
   "execution_count": 141,
   "metadata": {},
   "outputs": [
    {
     "data": {
      "text/plain": [
       "Prediction(uid='A15G70V9OBTOVO', iid='B000B7SGD0', r_ui=None, est=1, details={'was_impossible': False})"
      ]
     },
     "execution_count": 141,
     "metadata": {},
     "output_type": "execute_result"
    }
   ],
   "source": [
    "svd_model.predict(uid=trainset.to_raw_uid(203),iid=trainset.to_raw_iid(0))"
   ]
  },
  {
   "cell_type": "code",
   "execution_count": 142,
   "metadata": {},
   "outputs": [],
   "source": [
    "from surprise.model_selection import GridSearchCV\n",
    "param_grid={'n_factors':[15,20,25,30],\"reg_all\":[0.01,0.02]}\n",
    "gs = GridSearchCV(SVD, param_grid, measures=['rmse'], cv=5,n_jobs=5, refit = True)"
   ]
  },
  {
   "cell_type": "code",
   "execution_count": 143,
   "metadata": {},
   "outputs": [],
   "source": [
    "gs.fit(data)  #fit the data on trainset"
   ]
  },
  {
   "cell_type": "code",
   "execution_count": 144,
   "metadata": {},
   "outputs": [
    {
     "data": {
      "text/plain": [
       "[{'n_factors': 15, 'reg_all': 0.01},\n",
       " {'n_factors': 15, 'reg_all': 0.02},\n",
       " {'n_factors': 20, 'reg_all': 0.01},\n",
       " {'n_factors': 20, 'reg_all': 0.02},\n",
       " {'n_factors': 25, 'reg_all': 0.01},\n",
       " {'n_factors': 25, 'reg_all': 0.02},\n",
       " {'n_factors': 30, 'reg_all': 0.01},\n",
       " {'n_factors': 30, 'reg_all': 0.02}]"
      ]
     },
     "execution_count": 144,
     "metadata": {},
     "output_type": "execute_result"
    }
   ],
   "source": [
    "# get all parameter combinations\n",
    "gs.param_combinations"
   ]
  },
  {
   "cell_type": "code",
   "execution_count": 145,
   "metadata": {},
   "outputs": [
    {
     "data": {
      "text/plain": [
       "{'split0_test_rmse': array([1.06040641, 1.06080405, 1.06195724, 1.06387252, 1.0609743 ,\n",
       "        1.06327863, 1.06146848, 1.06212596]),\n",
       " 'split1_test_rmse': array([1.03919375, 1.03910055, 1.03929923, 1.03794525, 1.04132037,\n",
       "        1.03873937, 1.03894159, 1.03955424]),\n",
       " 'split2_test_rmse': array([1.03553487, 1.03589944, 1.03546222, 1.0370295 , 1.03613323,\n",
       "        1.03722202, 1.03892299, 1.03771985]),\n",
       " 'split3_test_rmse': array([1.035606  , 1.03455445, 1.03538672, 1.03658717, 1.03501561,\n",
       "        1.03683646, 1.0372201 , 1.03665538]),\n",
       " 'split4_test_rmse': array([1.07201774, 1.07051958, 1.07293224, 1.07243468, 1.07052483,\n",
       "        1.07198487, 1.07353678, 1.07220478]),\n",
       " 'mean_test_rmse': array([1.04855175, 1.04817561, 1.04900753, 1.04957382, 1.04879367,\n",
       "        1.04961227, 1.05001799, 1.04965204]),\n",
       " 'std_test_rmse': array([0.01493847, 0.01467874, 0.01551347, 0.01541628, 0.01432887,\n",
       "        0.01498174, 0.01479066, 0.01467979]),\n",
       " 'rank_test_rmse': array([2, 1, 4, 5, 3, 6, 8, 7]),\n",
       " 'mean_fit_time': array([0.14619441, 0.13861256, 0.16018286, 0.16839185, 0.16452909,\n",
       "        0.1711565 , 0.19226217, 0.17831025]),\n",
       " 'std_fit_time': array([0.01538049, 0.01462426, 0.00974321, 0.01756655, 0.00699442,\n",
       "        0.01535209, 0.01938999, 0.00523176]),\n",
       " 'mean_test_time': array([0.01168065, 0.01189885, 0.01286507, 0.01273651, 0.01158781,\n",
       "        0.01234002, 0.01225061, 0.01165228]),\n",
       " 'std_test_time': array([0.00097794, 0.00209331, 0.0014352 , 0.0018889 , 0.00061925,\n",
       "        0.00222185, 0.00156651, 0.00053244]),\n",
       " 'params': [{'n_factors': 15, 'reg_all': 0.01},\n",
       "  {'n_factors': 15, 'reg_all': 0.02},\n",
       "  {'n_factors': 20, 'reg_all': 0.01},\n",
       "  {'n_factors': 20, 'reg_all': 0.02},\n",
       "  {'n_factors': 25, 'reg_all': 0.01},\n",
       "  {'n_factors': 25, 'reg_all': 0.02},\n",
       "  {'n_factors': 30, 'reg_all': 0.01},\n",
       "  {'n_factors': 30, 'reg_all': 0.02}],\n",
       " 'param_n_factors': [15, 15, 20, 20, 25, 25, 30, 30],\n",
       " 'param_reg_all': [0.01, 0.02, 0.01, 0.02, 0.01, 0.02, 0.01, 0.02]}"
      ]
     },
     "execution_count": 145,
     "metadata": {},
     "output_type": "execute_result"
    }
   ],
   "source": [
    "gs.cv_results"
   ]
  },
  {
   "cell_type": "code",
   "execution_count": 146,
   "metadata": {},
   "outputs": [
    {
     "data": {
      "text/plain": [
       "{'rmse': {'n_factors': 15, 'reg_all': 0.02}}"
      ]
     },
     "execution_count": 146,
     "metadata": {},
     "output_type": "execute_result"
    }
   ],
   "source": [
    "#best parameters for SVD\n",
    "gs.best_params"
   ]
  },
  {
   "cell_type": "code",
   "execution_count": 168,
   "metadata": {},
   "outputs": [
    {
     "data": {
      "text/plain": [
       "{'rmse': 1.0481756143408645}"
      ]
     },
     "execution_count": 168,
     "metadata": {},
     "output_type": "execute_result"
    }
   ],
   "source": [
    "#best score for SVD using parameter tuning\n",
    "gs.best_score"
   ]
  },
  {
   "cell_type": "code",
   "execution_count": 147,
   "metadata": {},
   "outputs": [],
   "source": [
    "# Use the \"best model\" for prediction and predict the test data\n",
    "gs_test_pred = gs.test(testset)"
   ]
  },
  {
   "cell_type": "code",
   "execution_count": 148,
   "metadata": {},
   "outputs": [
    {
     "name": "stdout",
     "output_type": "stream",
     "text": [
      "RMSE: 1.0235\n"
     ]
    },
    {
     "data": {
      "text/plain": [
       "1.0234724725405797"
      ]
     },
     "execution_count": 148,
     "metadata": {},
     "output_type": "execute_result"
    }
   ],
   "source": [
    "accuracy.rmse(gs_test_pred)"
   ]
  },
  {
   "cell_type": "code",
   "execution_count": null,
   "metadata": {},
   "outputs": [],
   "source": [
    "#RMSE coming on the predicted test data using SVD alogorithm is 1.0235 which is quite less so we can say that \n",
    "#we are getting minimum error means we are good in recommending the products to the new users  "
   ]
  },
  {
   "cell_type": "code",
   "execution_count": 149,
   "metadata": {},
   "outputs": [
    {
     "data": {
      "text/html": [
       "<div>\n",
       "<style scoped>\n",
       "    .dataframe tbody tr th:only-of-type {\n",
       "        vertical-align: middle;\n",
       "    }\n",
       "\n",
       "    .dataframe tbody tr th {\n",
       "        vertical-align: top;\n",
       "    }\n",
       "\n",
       "    .dataframe thead th {\n",
       "        text-align: right;\n",
       "    }\n",
       "</style>\n",
       "<table border=\"1\" class=\"dataframe\">\n",
       "  <thead>\n",
       "    <tr style=\"text-align: right;\">\n",
       "      <th></th>\n",
       "      <th>userID</th>\n",
       "      <th>productID</th>\n",
       "      <th>est_ratings</th>\n",
       "    </tr>\n",
       "  </thead>\n",
       "  <tbody>\n",
       "    <tr>\n",
       "      <th>0</th>\n",
       "      <td>A2L42QEWR77PKZ</td>\n",
       "      <td>B005LJQM3Y</td>\n",
       "      <td>4.450657</td>\n",
       "    </tr>\n",
       "    <tr>\n",
       "      <th>1</th>\n",
       "      <td>A2OWR5G2OAQF7C</td>\n",
       "      <td>B004P15HD0</td>\n",
       "      <td>4.339100</td>\n",
       "    </tr>\n",
       "    <tr>\n",
       "      <th>2</th>\n",
       "      <td>A3O4OIBCML0683</td>\n",
       "      <td>B004Z0S6RU</td>\n",
       "      <td>4.283600</td>\n",
       "    </tr>\n",
       "    <tr>\n",
       "      <th>3</th>\n",
       "      <td>A2JAEZ0FMAMJVW</td>\n",
       "      <td>B0030LGY38</td>\n",
       "      <td>4.283600</td>\n",
       "    </tr>\n",
       "    <tr>\n",
       "      <th>4</th>\n",
       "      <td>A6FIAB28IS79</td>\n",
       "      <td>B000FCSXBQ</td>\n",
       "      <td>4.124639</td>\n",
       "    </tr>\n",
       "  </tbody>\n",
       "</table>\n",
       "</div>"
      ],
      "text/plain": [
       "           userID   productID  est_ratings\n",
       "0  A2L42QEWR77PKZ  B005LJQM3Y     4.450657\n",
       "1  A2OWR5G2OAQF7C  B004P15HD0     4.339100\n",
       "2  A3O4OIBCML0683  B004Z0S6RU     4.283600\n",
       "3  A2JAEZ0FMAMJVW  B0030LGY38     4.283600\n",
       "4    A6FIAB28IS79  B000FCSXBQ     4.124639"
      ]
     },
     "execution_count": 149,
     "metadata": {},
     "output_type": "execute_result"
    }
   ],
   "source": [
    "gs_test_pred_df=pd.DataFrame([[x.uid,x.iid,x.est] for x in gs_test_pred])\n",
    "gs_test_pred_df.columns=['userID','productID','est_ratings']\n",
    "gs_test_pred_df.head()"
   ]
  },
  {
   "cell_type": "code",
   "execution_count": 150,
   "metadata": {},
   "outputs": [
    {
     "data": {
      "text/plain": [
       "1466"
      ]
     },
     "execution_count": 150,
     "metadata": {},
     "output_type": "execute_result"
    }
   ],
   "source": [
    "#get the users with the top ratings\n",
    "gs_test_pred_df.sort_values(by=['userID','est_ratings'],ascending=False,inplace=True)\n",
    "gs_test_pred_df['userID'].unique().shape[0]"
   ]
  },
  {
   "cell_type": "code",
   "execution_count": 151,
   "metadata": {},
   "outputs": [],
   "source": [
    "gs_top_records = gs_test_pred_df.groupby('userID').head(5).reset_index(drop=True)"
   ]
  },
  {
   "cell_type": "code",
   "execution_count": 154,
   "metadata": {},
   "outputs": [
    {
     "data": {
      "text/html": [
       "<div>\n",
       "<style scoped>\n",
       "    .dataframe tbody tr th:only-of-type {\n",
       "        vertical-align: middle;\n",
       "    }\n",
       "\n",
       "    .dataframe tbody tr th {\n",
       "        vertical-align: top;\n",
       "    }\n",
       "\n",
       "    .dataframe thead th {\n",
       "        text-align: right;\n",
       "    }\n",
       "</style>\n",
       "<table border=\"1\" class=\"dataframe\">\n",
       "  <thead>\n",
       "    <tr style=\"text-align: right;\">\n",
       "      <th></th>\n",
       "      <th>userID</th>\n",
       "      <th>productID</th>\n",
       "      <th>est_ratings</th>\n",
       "    </tr>\n",
       "  </thead>\n",
       "  <tbody>\n",
       "    <tr>\n",
       "      <th>0</th>\n",
       "      <td>AZOK5STV85FBJ</td>\n",
       "      <td>B0002BA570</td>\n",
       "      <td>4.583353</td>\n",
       "    </tr>\n",
       "    <tr>\n",
       "      <th>1</th>\n",
       "      <td>AZOK5STV85FBJ</td>\n",
       "      <td>B0051QZEHC</td>\n",
       "      <td>4.467116</td>\n",
       "    </tr>\n",
       "    <tr>\n",
       "      <th>2</th>\n",
       "      <td>AZOK5STV85FBJ</td>\n",
       "      <td>B00JG5VV9O</td>\n",
       "      <td>4.467116</td>\n",
       "    </tr>\n",
       "    <tr>\n",
       "      <th>3</th>\n",
       "      <td>AZOK5STV85FBJ</td>\n",
       "      <td>B00AANMVNQ</td>\n",
       "      <td>4.467116</td>\n",
       "    </tr>\n",
       "    <tr>\n",
       "      <th>4</th>\n",
       "      <td>AZOK5STV85FBJ</td>\n",
       "      <td>B00A85ANCW</td>\n",
       "      <td>4.467116</td>\n",
       "    </tr>\n",
       "    <tr>\n",
       "      <th>5</th>\n",
       "      <td>AZNUHQSHZHSUE</td>\n",
       "      <td>B001U3ZVQ4</td>\n",
       "      <td>4.325971</td>\n",
       "    </tr>\n",
       "    <tr>\n",
       "      <th>6</th>\n",
       "      <td>AZNUHQSHZHSUE</td>\n",
       "      <td>B0002ZG62E</td>\n",
       "      <td>4.325971</td>\n",
       "    </tr>\n",
       "    <tr>\n",
       "      <th>7</th>\n",
       "      <td>AZNUHQSHZHSUE</td>\n",
       "      <td>B000FJEYZI</td>\n",
       "      <td>4.325971</td>\n",
       "    </tr>\n",
       "    <tr>\n",
       "      <th>8</th>\n",
       "      <td>AZNUHQSHZHSUE</td>\n",
       "      <td>B003XE3X8Q</td>\n",
       "      <td>4.325971</td>\n",
       "    </tr>\n",
       "    <tr>\n",
       "      <th>9</th>\n",
       "      <td>AZNUHQSHZHSUE</td>\n",
       "      <td>B003FBQKZ0</td>\n",
       "      <td>4.325971</td>\n",
       "    </tr>\n",
       "    <tr>\n",
       "      <th>10</th>\n",
       "      <td>AZMY6E8B52L2T</td>\n",
       "      <td>B00000J1EQ</td>\n",
       "      <td>4.489923</td>\n",
       "    </tr>\n",
       "    <tr>\n",
       "      <th>11</th>\n",
       "      <td>AZMY6E8B52L2T</td>\n",
       "      <td>B00CJROAZS</td>\n",
       "      <td>4.375430</td>\n",
       "    </tr>\n",
       "    <tr>\n",
       "      <th>12</th>\n",
       "      <td>AZMY6E8B52L2T</td>\n",
       "      <td>B00L2442H0</td>\n",
       "      <td>4.375430</td>\n",
       "    </tr>\n",
       "    <tr>\n",
       "      <th>13</th>\n",
       "      <td>AZMY6E8B52L2T</td>\n",
       "      <td>B001M56DI0</td>\n",
       "      <td>4.375430</td>\n",
       "    </tr>\n",
       "    <tr>\n",
       "      <th>14</th>\n",
       "      <td>AZMY6E8B52L2T</td>\n",
       "      <td>B00F0DD0I6</td>\n",
       "      <td>4.375430</td>\n",
       "    </tr>\n",
       "    <tr>\n",
       "      <th>15</th>\n",
       "      <td>AZCE11PSTCH1L</td>\n",
       "      <td>B0002861MG</td>\n",
       "      <td>4.540964</td>\n",
       "    </tr>\n",
       "    <tr>\n",
       "      <th>16</th>\n",
       "      <td>AZCE11PSTCH1L</td>\n",
       "      <td>B0085MPDCU</td>\n",
       "      <td>4.374121</td>\n",
       "    </tr>\n",
       "    <tr>\n",
       "      <th>17</th>\n",
       "      <td>AZCE11PSTCH1L</td>\n",
       "      <td>B008K4CZYC</td>\n",
       "      <td>4.374121</td>\n",
       "    </tr>\n",
       "    <tr>\n",
       "      <th>18</th>\n",
       "      <td>AZCE11PSTCH1L</td>\n",
       "      <td>B000BQ7GW8</td>\n",
       "      <td>4.374121</td>\n",
       "    </tr>\n",
       "    <tr>\n",
       "      <th>19</th>\n",
       "      <td>AZCE11PSTCH1L</td>\n",
       "      <td>B003I26OOI</td>\n",
       "      <td>4.374121</td>\n",
       "    </tr>\n",
       "    <tr>\n",
       "      <th>20</th>\n",
       "      <td>AZBXKUH4AIW3X</td>\n",
       "      <td>B00029U1DK</td>\n",
       "      <td>4.698057</td>\n",
       "    </tr>\n",
       "    <tr>\n",
       "      <th>21</th>\n",
       "      <td>AZBXKUH4AIW3X</td>\n",
       "      <td>B00008AWKZ</td>\n",
       "      <td>4.323723</td>\n",
       "    </tr>\n",
       "    <tr>\n",
       "      <th>22</th>\n",
       "      <td>AZBXKUH4AIW3X</td>\n",
       "      <td>B00008OTE1</td>\n",
       "      <td>4.273492</td>\n",
       "    </tr>\n",
       "    <tr>\n",
       "      <th>23</th>\n",
       "      <td>AZBXKUH4AIW3X</td>\n",
       "      <td>B008EQZ25K</td>\n",
       "      <td>4.160359</td>\n",
       "    </tr>\n",
       "    <tr>\n",
       "      <th>24</th>\n",
       "      <td>AZBXKUH4AIW3X</td>\n",
       "      <td>B003KQMBU8</td>\n",
       "      <td>4.160359</td>\n",
       "    </tr>\n",
       "    <tr>\n",
       "      <th>25</th>\n",
       "      <td>AZAC8O310IK4E</td>\n",
       "      <td>B002Y6CJJ8</td>\n",
       "      <td>4.456883</td>\n",
       "    </tr>\n",
       "    <tr>\n",
       "      <th>26</th>\n",
       "      <td>AZAC8O310IK4E</td>\n",
       "      <td>B00FD5L646</td>\n",
       "      <td>4.456883</td>\n",
       "    </tr>\n",
       "    <tr>\n",
       "      <th>27</th>\n",
       "      <td>AZAC8O310IK4E</td>\n",
       "      <td>B006DEBYWU</td>\n",
       "      <td>4.456883</td>\n",
       "    </tr>\n",
       "    <tr>\n",
       "      <th>28</th>\n",
       "      <td>AZAC8O310IK4E</td>\n",
       "      <td>B00CL8F98W</td>\n",
       "      <td>4.456883</td>\n",
       "    </tr>\n",
       "    <tr>\n",
       "      <th>29</th>\n",
       "      <td>AZAC8O310IK4E</td>\n",
       "      <td>B004GYVPGE</td>\n",
       "      <td>4.456883</td>\n",
       "    </tr>\n",
       "  </tbody>\n",
       "</table>\n",
       "</div>"
      ],
      "text/plain": [
       "           userID   productID  est_ratings\n",
       "0   AZOK5STV85FBJ  B0002BA570     4.583353\n",
       "1   AZOK5STV85FBJ  B0051QZEHC     4.467116\n",
       "2   AZOK5STV85FBJ  B00JG5VV9O     4.467116\n",
       "3   AZOK5STV85FBJ  B00AANMVNQ     4.467116\n",
       "4   AZOK5STV85FBJ  B00A85ANCW     4.467116\n",
       "5   AZNUHQSHZHSUE  B001U3ZVQ4     4.325971\n",
       "6   AZNUHQSHZHSUE  B0002ZG62E     4.325971\n",
       "7   AZNUHQSHZHSUE  B000FJEYZI     4.325971\n",
       "8   AZNUHQSHZHSUE  B003XE3X8Q     4.325971\n",
       "9   AZNUHQSHZHSUE  B003FBQKZ0     4.325971\n",
       "10  AZMY6E8B52L2T  B00000J1EQ     4.489923\n",
       "11  AZMY6E8B52L2T  B00CJROAZS     4.375430\n",
       "12  AZMY6E8B52L2T  B00L2442H0     4.375430\n",
       "13  AZMY6E8B52L2T  B001M56DI0     4.375430\n",
       "14  AZMY6E8B52L2T  B00F0DD0I6     4.375430\n",
       "15  AZCE11PSTCH1L  B0002861MG     4.540964\n",
       "16  AZCE11PSTCH1L  B0085MPDCU     4.374121\n",
       "17  AZCE11PSTCH1L  B008K4CZYC     4.374121\n",
       "18  AZCE11PSTCH1L  B000BQ7GW8     4.374121\n",
       "19  AZCE11PSTCH1L  B003I26OOI     4.374121\n",
       "20  AZBXKUH4AIW3X  B00029U1DK     4.698057\n",
       "21  AZBXKUH4AIW3X  B00008AWKZ     4.323723\n",
       "22  AZBXKUH4AIW3X  B00008OTE1     4.273492\n",
       "23  AZBXKUH4AIW3X  B008EQZ25K     4.160359\n",
       "24  AZBXKUH4AIW3X  B003KQMBU8     4.160359\n",
       "25  AZAC8O310IK4E  B002Y6CJJ8     4.456883\n",
       "26  AZAC8O310IK4E  B00FD5L646     4.456883\n",
       "27  AZAC8O310IK4E  B006DEBYWU     4.456883\n",
       "28  AZAC8O310IK4E  B00CL8F98W     4.456883\n",
       "29  AZAC8O310IK4E  B004GYVPGE     4.456883"
      ]
     },
     "execution_count": 154,
     "metadata": {},
     "output_type": "execute_result"
    }
   ],
   "source": [
    "#top 5 recommendations(top 5 recommended products to each user)\n",
    "gs_top_records.head(30)"
   ]
  },
  {
   "cell_type": "code",
   "execution_count": null,
   "metadata": {},
   "outputs": [],
   "source": [
    "#Conclusion:\n",
    "#We can see that SVD alogorithm is working well on this dataset with the minimum rmse using the parameter tuning \n",
    "#In applications where user-base is large, user-based approaches face scalability issues, as their complexity grows linearly with number of users.\n",
    "#Item-based approaches address these scalability concerns to recommend items based on item similarities. Hybrid techniques take advantages of various kinds of such approaches and combine them in several ways to achieve better performance\n",
    "\n",
    "#We have used two types of recommender system over here\n",
    "#1. Popularity based recommender-> recommender is prone to the popular products , there are the products which received the maximum score/ratings from the users so user will hardly get recommendation for other unrated/low rated items\n",
    "#2. collabarative filtering based recommender-> In this approach, as we see that we are not recommending the products on basis of popularity so we overcome the shortcoming from popularity model\n",
    "# here, we are filtering the products, which have the similar char/patterms between different products\n",
    "#but in CF, we have cold-start problem: recommender fails to recommend new or less-known products because products have either none or very little interactions or user based ,how to recommend to new users\n",
    "#whom we have little to no data about their preferences?\n",
    "\n",
    "#Overall, we can say that we are getting good results with Collabartive filtering as compare to the popularity based recommendation system but still we face the issue with the new users Since we have no information about these new user’s preferences, \n",
    "#we cannot accurately compute the similarity between the new user and more established users. so we can use the hybrid-approach to recommendation which resolves the weaknesses of these two recommender. \n"
   ]
  }
 ],
 "metadata": {
  "kernelspec": {
   "display_name": "Python 3",
   "language": "python",
   "name": "python3"
  },
  "language_info": {
   "codemirror_mode": {
    "name": "ipython",
    "version": 3
   },
   "file_extension": ".py",
   "mimetype": "text/x-python",
   "name": "python",
   "nbconvert_exporter": "python",
   "pygments_lexer": "ipython3",
   "version": "3.7.4"
  }
 },
 "nbformat": 4,
 "nbformat_minor": 4
}
